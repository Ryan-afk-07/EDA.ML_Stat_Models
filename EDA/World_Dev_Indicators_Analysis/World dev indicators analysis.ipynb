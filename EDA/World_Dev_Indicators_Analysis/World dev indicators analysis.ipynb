{
 "cells": [
  {
   "cell_type": "code",
   "execution_count": 1,
   "id": "83fa6c45",
   "metadata": {},
   "outputs": [],
   "source": [
    "#import relevant packages and modules\n",
    "import pandas as pd\n",
    "import numpy as np\n",
    "import matplotlib.pyplot as plt\n",
    "import seaborn as sns"
   ]
  },
  {
   "cell_type": "code",
   "execution_count": 2,
   "id": "9a8e5e5d",
   "metadata": {},
   "outputs": [],
   "source": [
    "country_meta = pd.read_excel('WDIEXCEL.xlsx', sheet_name='Country')\n",
    "actual_data = pd.read_excel(\"WDIEXCEL.xlsx\", sheet_name='Data')\n",
    "type_indicators = pd.read_excel(\"WDIEXCEL.xlsx\", sheet_name='Series')\n",
    "time_series = pd.read_excel(\"WDIEXCEL.xlsx\", sheet_name='series-time')"
   ]
  },
  {
   "cell_type": "code",
   "execution_count": 3,
   "id": "fc71b146",
   "metadata": {},
   "outputs": [
    {
     "name": "stdout",
     "output_type": "stream",
     "text": [
      "Index(['Country Code', 'Short Name', 'Table Name', 'Long Name', '2-alpha code',\n",
      "       'Currency Unit', 'Special Notes', 'Region', 'Income Group', 'WB-2 code',\n",
      "       'National accounts base year', 'National accounts reference year',\n",
      "       'SNA price valuation', 'Lending category', 'Other groups',\n",
      "       'System of National Accounts', 'Alternative conversion factor',\n",
      "       'PPP survey year', 'Balance of Payments Manual in use',\n",
      "       'External debt Reporting status', 'System of trade',\n",
      "       'Government Accounting concept', 'IMF data dissemination standard',\n",
      "       'Latest population census', 'Latest household survey',\n",
      "       'Source of most recent Income and expenditure data',\n",
      "       'Vital registration complete', 'Latest agricultural census',\n",
      "       'Latest industrial data', 'Latest trade data',\n",
      "       'Latest water withdrawal data'],\n",
      "      dtype='object')\n",
      "Index(['Country Name', 'Country Code', 'Indicator Name', 'Indicator Code',\n",
      "       '1960', '1961', '1962', '1963', '1964', '1965', '1966', '1967', '1968',\n",
      "       '1969', '1970', '1971', '1972', '1973', '1974', '1975', '1976', '1977',\n",
      "       '1978', '1979', '1980', '1981', '1982', '1983', '1984', '1985', '1986',\n",
      "       '1987', '1988', '1989', '1990', '1991', '1992', '1993', '1994', '1995',\n",
      "       '1996', '1997', '1998', '1999', '2000', '2001', '2002', '2003', '2004',\n",
      "       '2005', '2006', '2007', '2008', '2009', '2010', '2011', '2012', '2013',\n",
      "       '2014', '2015', '2016', '2017', '2018', '2019', '2020', '2021', '2022',\n",
      "       '2023', '2024'],\n",
      "      dtype='object')\n",
      "Index(['Series Code', 'Topic', 'Indicator Name', 'Short definition',\n",
      "       'Long definition', 'Unit of measure', 'Periodicity', 'Base Period',\n",
      "       'Other notes', 'Aggregation method', 'Limitations and exceptions',\n",
      "       'Notes from original source', 'General comments', 'Source',\n",
      "       'Statistical concept and methodology', 'Development relevance',\n",
      "       'Related source links', 'Other web links', 'Related indicators',\n",
      "       'License Type'],\n",
      "      dtype='object')\n",
      "Index(['SeriesCode', 'Year', 'DESCRIPTION'], dtype='object')\n"
     ]
    }
   ],
   "source": [
    "print(country_meta.columns)\n",
    "print(actual_data.columns)\n",
    "print(type_indicators.columns)\n",
    "print(time_series.columns)"
   ]
  },
  {
   "cell_type": "code",
   "execution_count": 4,
   "id": "e86d3f4e",
   "metadata": {},
   "outputs": [],
   "source": [
    "#What do i analyze first.\n",
    "\"\"\"\n",
    "Maybe take the Country Code, 2-alpha code, Income group portions\n",
    "External debt reporting status, govt accounting concept? Industrial, water and trade might be interesting\n",
    "So definitely need the series code and indicator name plus its topic and related indicators (latter might be good to do relational testing)\n",
    "Need seriescode and year as well of course. take these now first\n",
    "\"\"\"\n",
    "\n",
    "country_meta_first = country_meta[['Country Code', 'Short Name','2-alpha code', 'Region', 'Income Group','External debt Reporting status', 'System of trade','Government Accounting concept', 'Latest population census', 'Latest household survey','Source of most recent Income and expenditure data','Vital registration complete', 'Latest agricultural census','Latest industrial data', 'Latest trade data','Latest water withdrawal data']]\n",
    "\n",
    "type_indicators_first = type_indicators[['Series Code', 'Topic', 'Indicator Name', 'Short definition','Unit of measure','Aggregation method', 'Limitations and exceptions',]]\n",
    "time_series_final = time_series[['SeriesCode', 'Year']]"
   ]
  },
  {
   "cell_type": "code",
   "execution_count": null,
   "id": "9397e78b",
   "metadata": {},
   "outputs": [],
   "source": [
    "pd.set_option('display.max_rows', None)\n",
    "pd.set_option('display.max_columns', None)\n",
    "pd.set_option('display.width', 200)\n",
    "pd.set_option('display.max_colwidth', None)\n",
    "print(type_indicators_first.loc[:,['Series Code','Indicator Name']])"
   ]
  },
  {
   "cell_type": "code",
   "execution_count": null,
   "id": "f69cf6e4",
   "metadata": {},
   "outputs": [],
   "source": [
    "\"\"\"Lets do electrical generation and consumption of raw materials for such generation - and if it impacts the Earth\"\"\"\n",
    "\"\"\"\n",
    "From type indicators dataset, take the columns:\n",
    "EG.EGY.PRIM.PP.KD, EG.ELC.ACCS.ZS, EG.ELC.COAL.ZS,\n",
    "EG.ELC.FOSL.ZS, EG.ELC.HYRO.ZS, EG.ELC.LOSS.ZS, \n",
    "EG.ELC.NGAS.ZS, EG.ELC.NUCL.ZS, EG.ELC.PETR.ZS,\n",
    "EG.ELC.RNEW.ZS, EG.ELC.RNWX.KH, EG.ELC.RNWX.ZS,\n",
    "EG.USE.ELEC.KH.PC, EN.ATM.PM25.MC.M3, EN.ATM.PM25.MC.T1.ZS,\n",
    "EN.ATM.PM25.MC.T2.ZS, EN.ATM.PM25.MC.T3.ZS, EN.ATM.PM25.MC.ZS,\n",
    "EN.GHG.ALL.LU.MT.CE.AR5, EN.GHG.ALL.MT.CE.AR5, EN.GHG.ALL.PC.CE.AR5,\n",
    "EN.GHG.CH4.AG.MT.CE.AR5, EN.GHG.CH4.BU.MT.CE.AR5, EN.GHG.CH4.FE.MT.CE.AR5,\n",
    "EN.GHG.CH4.IC.MT.CE.AR5, EN.GHG.CH4.IP.MT.CE.AR5, EN.GHG.CH4.MT.CE.AR5,\n",
    "EN.GHG.CH4.PI.MT.CE.AR5, EN.GHG.CH4.TR.MT.CE.AR5, EN.GHG.CH4.ZG.AR5,\n",
    "EN.GHG.CO2.AG.MT.CE.AR5, EN.GHG.CO2.BU.MT.CE.AR5, EN.GHG.CO2.FE.MT.CE.AR5, \n",
    "EN.GHG.CO2.IC.MT.CE.AR5, EN.GHG.CO2.IP.MT.CE.AR5, EN.GHG.CO2.LU.DF.MT.CE.AR5, \n",
    "EN.GHG.CO2.LU.FL.MT.CE.AR5,  EN.GHG.CO2.LU.MT.CE.AR5, EN.GHG.CO2.LU.OL.MT.CE.AR5, \n",
    "EN.GHG.CO2.LU.OS.MT.CE.AR5, EN.GHG.CO2.MT.CE.AR5, EN.GHG.CO2.PC.CE.AR5, \n",
    "EN.GHG.CO2.PI.MT.CE.AR5,  EN.GHG.CO2.RT.GDP.KD, EN.GHG.CO2.RT.GDP.PP.KD, \n",
    "EN.GHG.CO2.TR.MT.CE.AR5, EN.GHG.CO2.WA.MT.CE.AR5, EN.GHG.CO2.ZG.AR5, \n",
    "EN.GHG.FGAS.IP.MT.CE.AR5, EN.GHG.N2O.AG.MT.CE.AR5, EN.GHG.N2O.BU.MT.CE.AR5, \n",
    "EN.GHG.N2O.FE.MT.CE.AR5, EN.GHG.N2O.IC.MT.CE.AR5, EN.GHG.N2O.IP.MT.CE.AR5, \n",
    "EN.GHG.N2O.MT.CE.AR5, EN.GHG.N2O.PI.MT.CE.AR5, EN.GHG.N2O.TR.MT.CE.AR5, EN.GHG.N2O.WA.MT.CE.AR5,  \n",
    "EN.GHG.TOT.ZG.AR5\n",
    "\n",
    "From time series sheet, take the following columns:\n",
    "- no need la. Just do merging of the time series dataframe with the right series code can already\n",
    "\"\"\""
   ]
  },
  {
   "cell_type": "code",
   "execution_count": null,
   "id": "597c7b9a",
   "metadata": {},
   "outputs": [],
   "source": [
    "environment_indicators = ['EG.EGY.PRIM.PP.KD', 'EG.ELC.ACCS.ZS', 'EG.ELC.COAL.ZS',\n",
    "'EG.ELC.FOSL.ZS', 'EG.ELC.HYRO.ZS', 'EG.ELC.LOSS.ZS', 'EG.ELC.NGAS.ZS', 'EG.ELC.NUCL.ZS', 'EG.ELC.PETR.ZS',\n",
    "'EG.ELC.RNEW.ZS', 'EG.ELC.RNWX.KH', 'EG.ELC.RNWX.ZS', 'EG.USE.ELEC.KH.PC', 'EN.ATM.PM25.MC.M3', 'EN.ATM.PM25.MC.T1.ZS',\n",
    "'EN.ATM.PM25.MC.T2.ZS', 'EN.ATM.PM25.MC.T3.ZS', 'EN.ATM.PM25.MC.ZS', 'EN.GHG.ALL.LU.MT.CE.AR5', \n",
    "'EN.GHG.ALL.MT.CE.AR5', 'EN.GHG.ALL.PC.CE.AR5', 'EN.GHG.CH4.AG.MT.CE.AR5', 'EN.GHG.CH4.BU.MT.CE.AR5', \n",
    "'EN.GHG.CH4.FE.MT.CE.AR5', 'EN.GHG.CH4.IC.MT.CE.AR5', 'EN.GHG.CH4.IP.MT.CE.AR5', 'EN.GHG.CH4.MT.CE.AR5',\n",
    "'EN.GHG.CH4.PI.MT.CE.AR5', 'EN.GHG.CH4.TR.MT.CE.AR5', 'EN.GHG.CH4.ZG.AR5', 'EN.GHG.CO2.AG.MT.CE.AR5', \n",
    "'EN.GHG.CO2.BU.MT.CE.AR5', 'EN.GHG.CO2.FE.MT.CE.AR5', 'EN.GHG.CO2.IC.MT.CE.AR5', 'EN.GHG.CO2.IP.MT.CE.AR5', \n",
    "'EN.GHG.CO2.LU.DF.MT.CE.AR5', 'EN.GHG.CO2.LU.FL.MT.CE.AR5',  'EN.GHG.CO2.LU.MT.CE.AR5', 'EN.GHG.CO2.LU.OL.MT.CE.AR5', \n",
    "'EN.GHG.CO2.LU.OS.MT.CE.AR5', 'EN.GHG.CO2.MT.CE.AR5', 'EN.GHG.CO2.PC.CE.AR5', 'EN.GHG.CO2.PI.MT.CE.AR5',  \n",
    "'EN.GHG.CO2.RT.GDP.KD', 'EN.GHG.CO2.RT.GDP.PP.KD', 'EN.GHG.CO2.TR.MT.CE.AR5', 'EN.GHG.CO2.WA.MT.CE.AR5', \n",
    "'EN.GHG.CO2.ZG.AR5', 'EN.GHG.FGAS.IP.MT.CE.AR5', 'EN.GHG.N2O.AG.MT.CE.AR5', 'EN.GHG.N2O.BU.MT.CE.AR5', \n",
    "'EN.GHG.N2O.FE.MT.CE.AR5', 'EN.GHG.N2O.IC.MT.CE.AR5', 'EN.GHG.N2O.IP.MT.CE.AR5', 'EN.GHG.N2O.MT.CE.AR5', \n",
    "'EN.GHG.N2O.PI.MT.CE.AR5', 'EN.GHG.N2O.TR.MT.CE.AR5', 'EN.GHG.N2O.WA.MT.CE.AR5',  'EN.GHG.TOT.ZG.AR5']\n",
    "environ_type = type_indicators_first[type_indicators_first['Series Code'] in environment_indicators]\n",
    "environ_time_combi = pd.merge(environ_type, time_series_final, left_on='Series Code', right_on='SeriesCode')\n",
    "env_t_combi_data = pd.merge(actual_data, environ_time_combi, left_on='Indicator Code', right_on='Series Code')\n",
    "full_environ_data = pd.merge(country_meta_first, env_t_combi_data, left_on='Country Code', right_on='Country Code')"
   ]
  }
 ],
 "metadata": {
  "kernelspec": {
   "display_name": "Python 3",
   "language": "python",
   "name": "python3"
  },
  "language_info": {
   "codemirror_mode": {
    "name": "ipython",
    "version": 3
   },
   "file_extension": ".py",
   "mimetype": "text/x-python",
   "name": "python",
   "nbconvert_exporter": "python",
   "pygments_lexer": "ipython3",
   "version": "3.12.10"
  }
 },
 "nbformat": 4,
 "nbformat_minor": 5
}
