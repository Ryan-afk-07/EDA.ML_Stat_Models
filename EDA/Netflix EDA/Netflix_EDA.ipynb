{
 "cells": [
  {
   "cell_type": "code",
   "execution_count": 1,
   "metadata": {},
   "outputs": [],
   "source": [
    "#import packages\n",
    "import pandas as pd\n",
    "import numpy as np\n",
    "import seaborn as sns\n",
    "import matplotlib.pyplot as plt\n"
   ]
  },
  {
   "cell_type": "code",
   "execution_count": 2,
   "metadata": {},
   "outputs": [],
   "source": [
    "netflix = pd.read_csv(\"C:/Users/user/Desktop/Data Stuffs/Portfolio Projects/Netflix EDA/NetflixOriginals.csv\", encoding = \"latin-1\")"
   ]
  },
  {
   "cell_type": "code",
   "execution_count": 3,
   "metadata": {},
   "outputs": [
    {
     "name": "stdout",
     "output_type": "stream",
     "text": [
      "Title         0\n",
      "Genre         0\n",
      "Premiere      0\n",
      "Runtime       0\n",
      "IMDB Score    0\n",
      "Language      0\n",
      "dtype: int64\n"
     ]
    }
   ],
   "source": [
    "#doing analysis of base dataset + doing preprocessing and cleaning (if needed)\n",
    "print(netflix.isna().sum(axis=0))"
   ]
  },
  {
   "cell_type": "code",
   "execution_count": 4,
   "metadata": {},
   "outputs": [
    {
     "name": "stdout",
     "output_type": "stream",
     "text": [
      "                                           Title         Genre    Premiere  \\\n",
      "583     David Attenborough: A Life on Our Planet   Documentary   10/4/2020   \n",
      "582    Emicida: AmarElo - It's All For Yesterday   Documentary   12/8/2020   \n",
      "581                      Springsteen on Broadway  One-man show  12/16/2018   \n",
      "579        Taylor Swift: Reputation Stadium Tour  Concert Film  12/31/2018   \n",
      "578   Ben Platt: Live from Radio City Music Hall  Concert Film   5/20/2020   \n",
      "580  Winter on Fire: Ukraine's Fight for Freedom   Documentary   10/9/2015   \n",
      "576                      Cuba and the Cameraman    Documentary  11/24/2017   \n",
      "577                       Dancing with the Birds   Documentary  10/23/2019   \n",
      "575        The Three Deaths of Marisela Escobedo   Documentary  10/14/2020   \n",
      "574                                   Seaspiracy   Documentary   3/24/2021   \n",
      "\n",
      "     Runtime  IMDB Score                  Language  \n",
      "583       83         9.0                   English  \n",
      "582       89         8.6                Portuguese  \n",
      "581      153         8.5                   English  \n",
      "579      125         8.4                   English  \n",
      "578       85         8.4                   English  \n",
      "580       91         8.4  English/Ukranian/Russian  \n",
      "576      114         8.3                   English  \n",
      "577       51         8.3                   English  \n",
      "575      109         8.2                   Spanish  \n",
      "574       89         8.2                   English  \n"
     ]
    }
   ],
   "source": [
    "#very very generic first hand analysis\n",
    "'''\n",
    "- Do top few IMDB score (top 10 and 20)\n",
    "- Maybe after that view their varying genres and runtime etc\n",
    "'''\n",
    "\n",
    "netflix_imdb = netflix.sort_values('IMDB Score', ascending=False)\n",
    "print(netflix_imdb.head(10))"
   ]
  },
  {
   "cell_type": "code",
   "execution_count": 5,
   "metadata": {},
   "outputs": [
    {
     "name": "stdout",
     "output_type": "stream",
     "text": [
      "Title         584\n",
      "Genre         115\n",
      "Premiere      387\n",
      "Runtime       124\n",
      "IMDB Score     54\n",
      "Language       38\n",
      "dtype: int64\n",
      "['Documentary' 'Thriller' 'Science fiction/Drama' 'Horror thriller'\n",
      " 'Mystery' 'Action' 'Comedy' 'Heist film/Thriller'\n",
      " 'Musical/Western/Fantasy' 'Drama' 'Romantic comedy' 'Action comedy'\n",
      " 'Horror anthology' 'Political thriller' 'Superhero-Comedy' 'Horror'\n",
      " 'Romance drama' 'Anime / Short' 'Superhero' 'Heist' 'Western'\n",
      " 'Animation/Superhero' 'Family film' 'Action-thriller' 'Teen comedy-drama'\n",
      " 'Romantic drama' 'Animation' 'Aftershow / Interview' 'Christmas musical'\n",
      " 'Science fiction adventure' 'Science fiction' 'Variety show'\n",
      " 'Comedy-drama' 'Comedy/Fantasy/Family' 'Supernatural drama'\n",
      " 'Action/Comedy' 'Action/Science fiction' 'Romantic teenage drama'\n",
      " 'Comedy / Musical' 'Musical' 'Science fiction/Mystery' 'Crime drama'\n",
      " 'Psychological thriller drama' 'Adventure/Comedy' 'Black comedy'\n",
      " 'Romance' 'Horror comedy' 'Christian musical' 'Romantic teen drama'\n",
      " 'Family' 'Dark comedy' 'Comedy horror' 'Psychological thriller' 'Biopic'\n",
      " 'Science fiction/Thriller' 'Mockumentary' 'Satire' 'One-man show'\n",
      " 'Romantic comedy-drama' 'Comedy/Horror' 'Fantasy' 'Sports-drama'\n",
      " 'Zombie/Heist' 'Psychological horror' 'Sports film' 'Comedy mystery'\n",
      " 'Romantic thriller' 'Christmas comedy' 'War-Comedy'\n",
      " 'Romantic comedy/Holiday' 'Adventure-romance' 'Adventure'\n",
      " 'Horror-thriller' 'Dance comedy' 'Stop Motion' 'Horror/Crime drama'\n",
      " 'Urban fantasy' 'Drama/Horror' 'Family/Comedy-drama' 'War'\n",
      " 'Crime thriller' 'Science fiction/Action' 'Teen comedy horror'\n",
      " 'Concert Film' 'Musical comedy' 'Animation/Musical/Adventure'\n",
      " 'Animation / Musicial' 'Animation/Comedy/Adventure' 'Action thriller'\n",
      " 'Anime/Science fiction' 'Animation / Short' 'War drama'\n",
      " 'Family/Christmas musical' 'Science fiction thriller' 'Drama / Short'\n",
      " 'Hidden-camera prank comedy' 'Spy thriller' 'Anime/Fantasy'\n",
      " 'Animated musical comedy' 'Variety Show' 'Superhero/Action'\n",
      " 'Biographical/Comedy' 'Historical-epic' 'Animation / Comedy'\n",
      " 'Christmas/Fantasy/Adventure/Comedy' 'Mentalism special' 'Drama-Comedy'\n",
      " 'Coming-of-age comedy-drama' 'Historical drama' 'Making-of'\n",
      " 'Action-adventure' 'Animation / Science Fiction' 'Anthology/Dark comedy'\n",
      " 'Musical / Short' 'Animation/Christmas/Comedy/Adventure']\n",
      "                                           Title        Genre    Premiere  \\\n",
      "583     David Attenborough: A Life on Our Planet  Documentary   10/4/2020   \n",
      "582    Emicida: AmarElo - It's All For Yesterday  Documentary   12/8/2020   \n",
      "580  Winter on Fire: Ukraine's Fight for Freedom  Documentary   10/9/2015   \n",
      "576                      Cuba and the Cameraman   Documentary  11/24/2017   \n",
      "577                       Dancing with the Birds  Documentary  10/23/2019   \n",
      "571                                         13th  Documentary   10/7/2016   \n",
      "575        The Three Deaths of Marisela Escobedo  Documentary  10/14/2020   \n",
      "572            Disclosure: Trans Lives on Screen  Documentary   6/19/2020   \n",
      "574                                   Seaspiracy  Documentary   3/24/2021   \n",
      "569                           My Octopus Teacher  Documentary    9/7/2020   \n",
      "\n",
      "     Runtime  IMDB Score                  Language       Genre1 Genre2 Genre3  \\\n",
      "583       83         9.0                   English  Documentary   None   None   \n",
      "582       89         8.6                Portuguese  Documentary   None   None   \n",
      "580       91         8.4  English/Ukranian/Russian  Documentary   None   None   \n",
      "576      114         8.3                   English  Documentary   None   None   \n",
      "577       51         8.3                   English  Documentary   None   None   \n",
      "571      100         8.2                   English  Documentary   None   None   \n",
      "575      109         8.2                   Spanish  Documentary   None   None   \n",
      "572      107         8.2                   English  Documentary   None   None   \n",
      "574       89         8.2                   English  Documentary   None   None   \n",
      "569       85         8.1                   English  Documentary   None   None   \n",
      "\n",
      "    Genre4  \n",
      "583   None  \n",
      "582   None  \n",
      "580   None  \n",
      "576   None  \n",
      "577   None  \n",
      "571   None  \n",
      "575   None  \n",
      "572   None  \n",
      "574   None  \n",
      "569   None  \n"
     ]
    }
   ],
   "source": [
    "#sort by genre\n",
    "print(netflix.nunique(axis = 0))\n",
    "print(netflix['Genre'].unique())\n",
    "\n",
    "'''\n",
    "Maybe try to see for those multiple genres, can clean them to be seperately viewed.\n",
    "'''\n",
    "netflix[['Genre1', 'Genre2', 'Genre3', 'Genre4']] = netflix['Genre'].str.split('/', expand=True)\n",
    "\n",
    "#find the top few of documentaries, since they are well scored overall\n",
    "netflix_docu_top10 = netflix[(netflix['Genre1'] == 'Documentary')\n",
    " | (netflix['Genre2'] == 'Documentary')\n",
    " | (netflix['Genre3'] == 'Documentary')\n",
    " | (netflix['Genre4'] == 'Documentary')].sort_values('IMDB Score', ascending=False)[:10]\n",
    "\n",
    "print(netflix_docu_top10)\n",
    "\n",
    "\n",
    "#find the top few of concert films\n",
    "netflix_concert_top10 = netflix[(netflix['Genre'] == 'Concert Film')\n",
    " | (netflix['Genre2'] == 'Concert Film')\n",
    " | (netflix['Genre3'] == 'Concert Film')\n",
    " | (netflix['Genre4'] == 'Concert Film')].sort_values('IMDB Score', ascending=False)[:10]\n",
    "\n",
    "#find top few of generic searched genres (action, comedy, thriller, horror, animation)\n",
    "netflix_action_top10 = netflix[(netflix['Genre1'] == 'Action')\n",
    " | (netflix['Genre2'] == 'Action')\n",
    " | (netflix['Genre3'] == 'Action')\n",
    " | (netflix['Genre4'] == 'Action')].sort_values('IMDB Score', ascending=False)[:10]\n",
    "\n",
    "netflix_comedy_top10 = netflix[\n",
    "    (netflix['Genre1'] == 'Comedy')\n",
    " | (netflix['Genre2'] == 'Comedy')\n",
    " | (netflix['Genre3'] == 'Comedy')\n",
    " | (netflix['Genre4'] == 'Comedy')\n",
    "].sort_values('IMDB Score', ascending = False)[:10]\n",
    "\n",
    "netflix_thrill_top10 = netflix[\n",
    "    (netflix['Genre1'] == 'Thriller')\n",
    " | (netflix['Genre2'] == 'Thriller')\n",
    " | (netflix['Genre3'] == 'Thriller')\n",
    " | (netflix['Genre4'] == 'Thriller')\n",
    "].sort_values('IMDB Score', ascending=False).head(10)\n",
    "\n",
    "netflix_horror_top10 = netflix[\n",
    "    (netflix['Genre1'] == 'Horror')\n",
    " | (netflix['Genre2'] == 'Horror')\n",
    " | (netflix['Genre3'] == 'Horror')\n",
    " | (netflix['Genre4'] == 'Horror')\n",
    "].sort_values('IMDB Score', ascending=False).head(10)\n",
    "\n",
    "netflix_scifi_top10 = netflix[\n",
    "    (netflix['Genre1'] == 'Science fiction')\n",
    " | (netflix['Genre2'] == 'Science fiction')\n",
    " | (netflix['Genre3'] == 'Science fiction')\n",
    " | (netflix['Genre4'] == 'Science fiction')\n",
    "].sort_values('IMDB Score', ascending=False).head(10)"
   ]
  },
  {
   "cell_type": "code",
   "execution_count": 6,
   "metadata": {},
   "outputs": [
    {
     "name": "stdout",
     "output_type": "stream",
     "text": [
      "(60, 12)\n"
     ]
    },
    {
     "data": {
      "image/png": "[encoded data removed]",
      "text/plain": [
       "<Figure size 640x480 with 1 Axes>"
      ]
     },
     "metadata": {},
     "output_type": "display_data"
    }
   ],
   "source": [
    "#try to see if i can do graph animation\n",
    "'''\n",
    "Doing concatenation for the top 10 of each category\n",
    "'''\n",
    "\n",
    "top10_popularcats = pd.concat(\n",
    "    [netflix_docu_top10, \n",
    "     netflix_action_top10, \n",
    "     netflix_comedy_top10, \n",
    "     netflix_thrill_top10, \n",
    "     netflix_horror_top10,\n",
    "     netflix_scifi_top10], axis=0).reset_index()\n",
    "\n",
    "top10_popularcats['Main Genre'] = [\n",
    "    'Documentary' if (x<10) \n",
    "    else \"Action\" if (10<=x<20) \n",
    "    else \"Comedy\" if (20<=x<30)\n",
    "    else \"Thriller\" if (30<=x<40)\n",
    "    else \"Horror\" if (40<=x<50)\n",
    "    else \"Science Fiction\" for x in top10_popularcats.index]\n",
    "\n",
    "sns.barplot(data=top10_popularcats, x=top10_popularcats.index, y='IMDB Score', hue='Main Genre')\n",
    "print(top10_popularcats.shape)\n"
   ]
  },
  {
   "cell_type": "code",
   "execution_count": 63,
   "metadata": {},
   "outputs": [
    {
     "data": {
      "image/png": "[encoded data removed]",
      "text/plain": [
       "<Figure size 700x500 with 1 Axes>"
      ]
     },
     "metadata": {},
     "output_type": "display_data"
    }
   ],
   "source": [
    "#doing the actual animated graph\n",
    "from matplotlib import animation\n",
    "fig = plt.figure(figsize=(7,5))\n",
    "axes = fig.add_subplot(1,1,1)\n",
    "ranking = [1,2,3,4,5,6,7,8,9,10]\n",
    "titles = [\"Documentary top 10\", \"Action top 10\", \"Comedy top 10\", \"Thriller top 10\", \"Horror top 10\", \"Science fiction top 10\"]\n",
    "\n",
    "colors = [\"tab:red\", \"tab:orange\", \"tab:green\", \"tab:blue\", \"tab:purple\", \"tab:brown\"]\n",
    "def animate(i):\n",
    "    axes.clear()\n",
    "    plt.bar(ranking,top10_popularcats['IMDB Score'][10*i:10*(i+1)], color=colors[i])\n",
    "    plt.title(titles[i])\n",
    "    plt.ylabel(\"IMDB Score\")\n",
    "    plt.xlabel('Ranking')\n",
    "\n",
    "\n",
    "ani = animation.FuncAnimation(fig, animate, frames=6)\n",
    "FFwriter = animation.PillowWriter(fps=1)\n",
    "ani.save(\"animation2.gif\", writer=FFwriter)\n"
   ]
  }
 ],
 "metadata": {
  "kernelspec": {
   "display_name": "Python 3",
   "language": "python",
   "name": "python3"
  },
  "language_info": {
   "codemirror_mode": {
    "name": "ipython",
    "version": 3
   },
   "file_extension": ".py",
   "mimetype": "text/x-python",
   "name": "python",
   "nbconvert_exporter": "python",
   "pygments_lexer": "ipython3",
   "version": "3.12.9"
  }
 },
 "nbformat": 4,
 "nbformat_minor": 2
}
