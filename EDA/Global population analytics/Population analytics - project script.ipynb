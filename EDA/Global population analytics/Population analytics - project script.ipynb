{
 "cells": [
  {
   "cell_type": "code",
   "execution_count": 1,
   "metadata": {},
   "outputs": [
    {
     "ename": "ModuleNotFoundError",
     "evalue": "No module named 'pandas'",
     "output_type": "error",
     "traceback": [
      "\u001b[1;31m---------------------------------------------------------------------------\u001b[0m",
      "\u001b[1;31mModuleNotFoundError\u001b[0m                       Traceback (most recent call last)",
      "Cell \u001b[1;32mIn[1], line 1\u001b[0m\n\u001b[1;32m----> 1\u001b[0m \u001b[38;5;28;01mimport\u001b[39;00m \u001b[38;5;21;01mpandas\u001b[39;00m \u001b[38;5;28;01mas\u001b[39;00m \u001b[38;5;21;01mpd\u001b[39;00m\n\u001b[0;32m      2\u001b[0m \u001b[38;5;28;01mimport\u001b[39;00m \u001b[38;5;21;01mnumpy\u001b[39;00m \u001b[38;5;28;01mas\u001b[39;00m \u001b[38;5;21;01mnp\u001b[39;00m\n\u001b[0;32m      3\u001b[0m \u001b[38;5;28;01mimport\u001b[39;00m \u001b[38;5;21;01mmatplotlib\u001b[39;00m\u001b[38;5;21;01m.\u001b[39;00m\u001b[38;5;21;01mpyplot\u001b[39;00m \u001b[38;5;28;01mas\u001b[39;00m \u001b[38;5;21;01mplt\u001b[39;00m\n",
      "\u001b[1;31mModuleNotFoundError\u001b[0m: No module named 'pandas'"
     ]
    }
   ],
   "source": [
    "import pandas as pd\n",
    "import numpy as np\n",
    "import matplotlib.pyplot as plt\n",
    "import seaborn as sns\n",
    "import scipy\n",
    "from sklearn import *\n"
   ]
  },
  {
   "cell_type": "code",
   "execution_count": null,
   "metadata": {},
   "outputs": [
    {
     "name": "stdout",
     "output_type": "stream",
     "text": [
      "       Density\\n(P/Km2)  Agricultural Land( %)  Land Area(Km2)  \\\n",
      "count        195.000000             195.000000    1.950000e+02   \n",
      "mean         356.764103              37.713333    6.860878e+05   \n",
      "std         1982.888967              22.596702    1.917286e+06   \n",
      "min            2.000000               0.000000    0.000000e+00   \n",
      "25%           35.500000              19.800000    2.308300e+04   \n",
      "50%           89.000000              39.200000    1.184840e+05   \n",
      "75%          216.500000              54.850000    5.205440e+05   \n",
      "max        26337.000000              82.600000    1.709824e+07   \n",
      "\n",
      "       Armed Forces size  Birth Rate  Calling Code  Co2-Emissions  \\\n",
      "count       1.950000e+02  189.000000    194.000000   1.950000e+02   \n",
      "mean        1.396718e+05   20.214974    360.546392   1.714167e+05   \n",
      "std         3.601490e+05    9.945774    323.236419   8.241858e+05   \n",
      "min         0.000000e+00    5.900000      1.000000   0.000000e+00   \n",
      "25%         4.500000e+03   11.300000     82.500000   1.901500e+03   \n",
      "50%         2.300000e+04   17.950000    255.500000   1.071500e+04   \n",
      "75%         1.230000e+05   28.750000    506.750000   6.194100e+04   \n",
      "max         3.031000e+06   46.080000   1876.000000   9.893038e+06   \n",
      "\n",
      "               CPI  CPI Change (%)  Fertility Rate  ...  Minimum wage  \\\n",
      "count   195.000000      195.000000      188.000000  ...    195.000000   \n",
      "mean    173.856667        6.170769        2.698138  ...      1.687795   \n",
      "std     383.909718       23.493382        1.282267  ...      2.763593   \n",
      "min       0.000000       -4.300000        0.980000  ...      0.000000   \n",
      "25%     111.005000        0.650000        1.705000  ...      0.070000   \n",
      "50%     121.640000        2.100000        2.245000  ...      0.570000   \n",
      "75%     155.605000        3.750000        3.597500  ...      1.625000   \n",
      "max    4583.710000      254.900000        6.910000  ...     13.590000   \n",
      "\n",
      "       Out of pocket health expenditure  Physicians per thousand  \\\n",
      "count                        195.000000               188.000000   \n",
      "mean                          31.465641                 1.839840   \n",
      "std                           19.783417                 1.684261   \n",
      "min                            0.000000                 0.010000   \n",
      "25%                           15.700000                 0.332500   \n",
      "50%                           28.400000                 1.460000   \n",
      "75%                           43.750000                 2.935000   \n",
      "max                           81.600000                 8.420000   \n",
      "\n",
      "         Population  Population: Labor force participation (%)  \\\n",
      "count  1.950000e+02                                 195.000000   \n",
      "mean   3.917921e+07                                  56.625128   \n",
      "std    1.447454e+08                                  21.152722   \n",
      "min    0.000000e+00                                   0.000000   \n",
      "25%    1.916856e+06                                  52.900000   \n",
      "50%    8.776109e+06                                  61.600000   \n",
      "75%    2.856227e+07                                  68.300000   \n",
      "max    1.397715e+09                                  86.800000   \n",
      "\n",
      "       Total tax rate  Unemployment rate  Urban_population    Latitude  \\\n",
      "count      195.000000         195.000000      1.950000e+02  194.000000   \n",
      "mean        38.310256           6.215385      2.173263e+07   19.092351   \n",
      "std         22.208406           5.240580      7.453597e+07   23.961779   \n",
      "min          0.000000           0.000000      0.000000e+00  -40.900557   \n",
      "25%         28.500000           2.555000      9.504180e+05    4.544175   \n",
      "50%         36.600000           4.670000      4.359150e+06   17.273849   \n",
      "75%         47.300000           8.840000      1.460139e+07   40.124603   \n",
      "max        219.600000          28.180000      8.429340e+08   64.963051   \n",
      "\n",
      "        Longitude  \n",
      "count  194.000000  \n",
      "mean    20.232434  \n",
      "std     66.716110  \n",
      "min   -175.198242  \n",
      "25%     -7.941496  \n",
      "50%     20.972652  \n",
      "75%     48.281523  \n",
      "max    178.065032  \n",
      "\n",
      "[8 rows x 28 columns]\n"
     ]
    }
   ],
   "source": [
    "global_stats = pd.read_csv(\"C:/Users/user/Desktop/Data Stuffs/Portfolio Projects/Global population analytics/world-data-2023.csv\")\n",
    "#print(global_stats.shape)\n",
    "#print(global_stats.isnull().sum())\n",
    "\n",
    "strings = ['Country', 'Abbreviation', 'Capital/Major City', 'Currency-Code', 'Largest city', 'Official language']\n",
    "\n",
    "percents = ['Agricultural Land( %)', 'CPI Change (%)', 'Forested Area (%)', 'Population: Labor force participation (%)', 'Tax revenue (%)']\n",
    "\n",
    "numerals_f = ['Density\\n(P/Km2)', 'Co2-Emissions', 'CPI', 'Gasoline Price', 'GDP', 'Gross primary education enrollment (%)', 'Gross tertiary education enrollment (%)', 'Out of pocket health expenditure',\n",
    "              'Population', 'Total tax rate', 'Unemployment rate', 'Minimum wage', 'Latitude', 'Longitude']\n",
    "numerals_i = ['Land Area(Km2)', 'Armed Forces size', 'Population', 'Urban_population']\n",
    "\n",
    "all = ['Density\\n(P/Km2)', 'Country', 'Abbreviation', 'Capital/Major City', 'Currency-Code', 'Largest city', 'Official language', 'Agricultural Land( %)', 'CPI Change (%)', 'Forested Area (%)', 'Population: Labor force participation (%)', 'Tax revenue (%)',\n",
    "       'Co2-Emissions', 'CPI', 'Gasoline Price', 'GDP', 'Gross primary education enrollment (%)', 'Gross tertiary education enrollment (%)', 'Out of pocket health expenditure',\n",
    "        'Population', 'Total tax rate', 'Unemployment rate', 'Minimum wage', 'Land Area(Km2)', 'Armed Forces size', 'Population', 'Urban_population']\n",
    "\n",
    "\n",
    "#cleaning up data\n",
    "\n",
    "for i in all:\n",
    "    global_stats[i] = global_stats[i].fillna(0).astype(str)\n",
    "\n",
    "for i in all:\n",
    "    global_stats[i] = global_stats[i].str.replace(',', '')\n",
    "\n",
    "for j in all:\n",
    "    global_stats[j] = global_stats[j].str.replace('$', '')\n",
    "\n",
    "\n",
    "for j in all:\n",
    "    global_stats[j] = global_stats[j].str.replace('%', '')\n",
    "\n",
    "for i in range(len(numerals_f)):\n",
    "    if i < len(percents) - 1:\n",
    "        global_stats[percents[i]] = global_stats[percents[i]].astype(float)\n",
    "        global_stats[numerals_f[i]] = global_stats[numerals_f[i]].astype(float)\n",
    "    else:\n",
    "        global_stats[numerals_f[i]] = global_stats[numerals_f[i]].astype(float)\n",
    "\n",
    "for i in numerals_i:\n",
    "    global_stats[i] = global_stats[i].astype(int)\n",
    "\n",
    "print(global_stats.describe())"
   ]
  },
  {
   "cell_type": "code",
   "execution_count": null,
   "metadata": {},
   "outputs": [
    {
     "name": "stdout",
     "output_type": "stream",
     "text": [
      "           Country  Labor_pop_abs\n",
      "36           China   9.504462e+08\n",
      "77           India   6.736440e+08\n",
      "186  United States   2.035085e+08\n",
      "78       Indonesia   1.823876e+08\n",
      "131       Pakistan   1.139134e+08\n",
      "23          Brazil   1.358255e+08\n",
      "126        Nigeria   1.063097e+08\n",
      "13      Bangladesh   9.871339e+07\n",
      "143         Russia   8.922284e+07\n",
      "85           Japan   7.788179e+07\n"
     ]
    },
    {
     "data": {
      "image/png": "[encoded data removed]",
      "text/plain": [
       "<Figure size 640x480 with 2 Axes>"
      ]
     },
     "metadata": {},
     "output_type": "display_data"
    }
   ],
   "source": [
    "#doing some basic visualizations\n",
    "#1. Comparing populations and their corresponding labor populations, as well as land area for comparison?\n",
    "\n",
    "plt.subplots_adjust(wspace = 0.5)\n",
    "global_stats['Labor_pop_abs'] = global_stats['Population'] / 100 * global_stats['Population: Labor force participation (%)']\n",
    "sorted_global_pop = global_stats.sort_values(by = 'Population', ascending = False).head(10)\n",
    "plt.subplot(1,2,1)\n",
    "pop1 = sns.barplot(data = sorted_global_pop, x = 'Country', y = 'Population', hue = 'Labor_pop_abs')\n",
    "pop1.tick_params(axis = 'x', rotation = 90)\n",
    "\n",
    "print(sorted_global_pop.loc[:,['Country','Labor_pop_abs']])\n",
    "\n",
    "sorted_global_land = global_stats.sort_values(by = 'Land Area(Km2)', ascending = False).head(10)\n",
    "plt.subplot(1,2,2)\n",
    "pop2 = sns.barplot(data = sorted_global_land, x = 'Country', y = 'Land Area(Km2)', hue = 'Population')\n",
    "pop2.tick_params(axis = 'x', rotation = 90)"
   ]
  },
  {
   "cell_type": "code",
   "execution_count": null,
   "metadata": {},
   "outputs": [
    {
     "data": {
      "image/png": "[encoded data removed]",
      "text/plain": [
       "<Figure size 800x800 with 4 Axes>"
      ]
     },
     "metadata": {},
     "output_type": "display_data"
    },
    {
     "data": {
      "text/plain": [
       "'\\n1. birth rates and mortality rates seem to have some +ve correlation\\n2. education and population has -ve correlation with mortality and birth rates\\n3. forces size is +vely correlated with land area and population (+ urban), GDP as well and of course CO2 emissions\\n4. more enrollment in tertiary education gives more GDP (albeit little), and minimum wage increase as well\\n5. unemployment rate as well as primary education generally affects +vely across the board'"
      ]
     },
     "execution_count": 4,
     "metadata": {},
     "output_type": "execute_result"
    }
   ],
   "source": [
    "#do correlation of each variable (numerical) in the dataset\n",
    "correlation = global_stats.drop(columns = strings).select_dtypes(np.number).corr(method = 'pearson')\n",
    "axis_correlation = sns.clustermap(correlation, cmap = 'coolwarm', center = 0, figsize= (8,8))\n",
    "plt.show()\n",
    "\n",
    "#some observations from the clustermap\n",
    "'''\n",
    "1. birth rates and mortality rates seem to have some +ve correlation\n",
    "2. education and population has -ve correlation with mortality and birth rates\n",
    "3. forces size is +vely correlated with land area and population (+ urban), GDP as well and of course CO2 emissions\n",
    "4. more enrollment in tertiary education gives more GDP (albeit little), and minimum wage increase as well\n",
    "5. unemployment rate as well as primary education generally affects +vely across the board'''"
   ]
  },
  {
   "cell_type": "code",
   "execution_count": null,
   "metadata": {},
   "outputs": [
    {
     "data": {
      "application/vnd.plotly.v1+json": {
       "config": {
        "plotlyServerURL": "https://plot.ly"
       },
       "data": [
        {
         "geo": "geo",
         "hovertemplate": "<b>%{hovertext}</b><br><br>Latitude=%{lat}<br>Longitude=%{lon}<br>Population=%{marker.color}<extra></extra>",
         "hovertext": [
          "Afghanistan",
          "Albania",
          "Algeria",
          "Angola",
          "Antigua and Barbuda",
          "Argentina",
          "Armenia",
          "Australia",
          "Austria",
          "Azerbaijan",
          "The Bahamas",
          "Bahrain",
          "Bangladesh",
          "Barbados",
          "Belarus",
          "Belgium",
          "Belize",
          "Benin",
          "Bhutan",
          "Bolivia",
          "Bosnia and Herzegovina",
          "Botswana",
          "Brazil",
          "Brunei",
          "Bulgaria",
          "Burkina Faso",
          "Burundi",
          "Ivory Coast",
          "Cape Verde",
          "Cambodia",
          "Cameroon",
          "Canada",
          "Central African Republic",
          "Chad",
          "Chile",
          "China",
          "Colombia",
          "Comoros",
          "Republic of the Congo",
          "Costa Rica",
          "Croatia",
          "Cuba",
          "Cyprus",
          "Czech Republic",
          "Democratic Republic of the Congo",
          "Denmark",
          "Djibouti",
          "Dominican Republic",
          "Ecuador",
          "Egypt",
          "El Salvador",
          "Equatorial Guinea",
          "Eritrea",
          "Estonia",
          "Ethiopia",
          "Fiji",
          "Finland",
          "France",
          "Gabon",
          "The Gambia",
          "Georgia",
          "Germany",
          "Ghana",
          "Greece",
          "Grenada",
          "Guatemala",
          "Guinea",
          "Guinea-Bissau",
          "Guyana",
          "Haiti",
          "Honduras",
          "Hungary",
          "Iceland",
          "India",
          "Indonesia",
          "Iran",
          "Iraq",
          "Republic of Ireland",
          "Israel",
          "Italy",
          "Jamaica",
          "Japan",
          "Jordan",
          "Kazakhstan",
          "Kenya",
          "Kiribati",
          "Kuwait",
          "Kyrgyzstan",
          "Laos",
          "Latvia",
          "Lebanon",
          "Lesotho",
          "Liberia",
          "Libya",
          "Lithuania",
          "Luxembourg",
          "Madagascar",
          "Malawi",
          "Malaysia",
          "Maldives",
          "Mali",
          "Malta",
          "Mauritania",
          "Mauritius",
          "Mexico",
          "Federated States of Micronesia",
          "Moldova",
          "Mongolia",
          "Montenegro",
          "Morocco",
          "Mozambique",
          "Myanmar",
          "Namibia",
          "Nepal",
          "Netherlands",
          "New Zealand",
          "Nicaragua",
          "Niger",
          "Nigeria",
          "North Korea",
          "Norway",
          "Oman",
          "Pakistan",
          "Panama",
          "Papua New Guinea",
          "Paraguay",
          "Peru",
          "Philippines",
          "Poland",
          "Portugal",
          "Qatar",
          "Romania",
          "Russia",
          "Rwanda",
          "Saint Lucia",
          "Saint Vincent and the Grenadines",
          "Samoa",
          "Saudi Arabia",
          "Senegal",
          "Serbia",
          "Seychelles",
          "Sierra Leone",
          "Singapore",
          "Slovakia",
          "Slovenia",
          "Solomon Islands",
          "Somalia",
          "South Africa",
          "South Korea",
          "Spain",
          "Sri Lanka",
          "Sudan",
          "Suriname",
          "Sweden",
          "Switzerland",
          "Syria",
          "Tajikistan",
          "Tanzania",
          "Thailand",
          "East Timor",
          "Togo",
          "Tonga",
          "Trinidad and Tobago",
          "Tunisia",
          "Turkey",
          "Turkmenistan",
          "Uganda",
          "Ukraine",
          "United Arab Emirates",
          "United Kingdom",
          "United States",
          "Uruguay",
          "Uzbekistan",
          "Vanuatu",
          "Venezuela",
          "Vietnam",
          "Yemen",
          "Zambia",
          "Zimbabwe"
         ],
         "lat": [
          33.93911,
          41.153332,
          28.033886,
          -11.202692,
          17.060816,
          -38.416097,
          40.069099,
          -25.274398,
          47.516231,
          40.143105,
          25.03428,
          26.0667,
          23.684994,
          13.193887,
          53.709807,
          50.503887,
          17.189877,
          9.30769,
          27.514162,
          -16.290154,
          43.915886,
          -22.328474,
          -14.235004,
          4.535277,
          42.733883,
          12.238333,
          -3.373056,
          7.539989,
          16.5388,
          12.565679,
          7.369722,
          56.130366,
          6.611111,
          15.454166,
          -35.675147,
          35.86166,
          4.570868,
          -11.6455,
          -0.228021,
          9.748917,
          45.1,
          21.521757,
          35.126413,
          49.817492,
          -4.038333,
          56.26392,
          11.825138,
          18.735693,
          -1.831239,
          26.820553,
          13.794185,
          1.650801,
          15.179384,
          58.595272,
          9.145,
          -17.713371,
          61.92411,
          46.227638,
          -0.803689,
          13.443182,
          42.315407,
          51.165691,
          7.946527,
          39.074208,
          12.1165,
          15.783471,
          9.945587,
          11.803749,
          4.860416,
          18.971187,
          15.199999,
          47.162494,
          64.963051,
          20.593684,
          -0.789275,
          32.427908,
          33.223191,
          53.41291,
          31.046051,
          41.87194,
          18.109581,
          36.204824,
          30.585164,
          48.019573,
          -0.023559,
          1.8368976,
          29.31166,
          41.20438,
          19.85627,
          56.879635,
          33.854721,
          -29.609988,
          6.428055,
          26.3351,
          55.169438,
          49.815273,
          -18.766947,
          -13.254308,
          4.210484,
          3.202778,
          17.570692,
          35.937496,
          21.00789,
          -20.348404,
          23.634501,
          7.425554,
          47.411631,
          46.862496,
          42.708678,
          31.791702,
          -18.665695,
          21.916221,
          -22.95764,
          28.394857,
          52.132633,
          -40.900557,
          12.865416,
          17.607789,
          9.081999,
          40.339852,
          60.472024,
          21.4735329,
          30.375321,
          8.537981,
          -6.314993,
          -23.442503,
          -9.189967,
          12.879721,
          51.919438,
          39.399872,
          25.354826,
          45.943161,
          61.52401,
          -1.940278,
          13.909444,
          12.984305,
          -13.759029,
          23.885942,
          14.497401,
          44.016521,
          -4.679574,
          8.460555,
          1.352083,
          48.669026,
          46.151241,
          -9.64571,
          5.152149,
          -30.559482,
          35.907757,
          40.463667,
          7.873054,
          12.862807,
          3.919305,
          60.128161,
          46.818188,
          34.802075,
          38.861034,
          -6.369028,
          15.870032,
          -8.874217,
          8.619543,
          -21.178986,
          10.691803,
          33.886917,
          38.963745,
          38.969719,
          1.373333,
          48.379433,
          23.424076,
          55.378051,
          37.09024,
          -32.522779,
          41.377491,
          -15.376706,
          6.42375,
          14.058324,
          15.552727,
          -13.133897,
          -19.015438
         ],
         "legendgroup": "",
         "lon": [
          67.709953,
          20.168331,
          1.659626,
          17.873887,
          -61.796428,
          -63.616672,
          45.038189,
          133.775136,
          14.550072,
          47.576927,
          -77.39628,
          50.5577,
          90.356331,
          -59.543198,
          27.953389,
          4.469936,
          -88.49765,
          2.315834,
          90.433601,
          -63.588653,
          17.679076,
          24.684866,
          -51.92528,
          114.727669,
          25.48583,
          -1.561593,
          29.918886,
          -5.54708,
          -23.0418,
          104.990963,
          12.354722,
          -106.346771,
          20.939444,
          18.732207,
          -71.542969,
          104.195397,
          -74.297333,
          43.3333,
          15.827659,
          -83.753428,
          15.2,
          -77.781167,
          33.429859,
          15.472962,
          21.758664,
          9.501785,
          42.590275,
          -70.162651,
          -78.183406,
          30.802498,
          -88.89653,
          10.267895,
          39.782334,
          25.013607,
          40.489673,
          178.065032,
          25.748151,
          2.213749,
          11.609444,
          -15.310139,
          43.356892,
          10.451526,
          -1.023194,
          21.824312,
          -61.679,
          -90.230759,
          -9.696645,
          -15.180413,
          -58.93018,
          -72.285215,
          -86.241905,
          19.503304,
          -19.020835,
          78.96288,
          113.921327,
          53.688046,
          43.679291,
          -8.24389,
          34.851612,
          12.56738,
          -77.297508,
          138.252924,
          36.238414,
          66.923684,
          37.906193,
          -157.3768317,
          47.481766,
          74.766098,
          102.495496,
          24.603189,
          35.862285,
          28.233608,
          -9.429499,
          17.228331,
          23.881275,
          6.129583,
          46.869107,
          34.301525,
          101.975766,
          73.22068,
          -3.996166,
          14.375416,
          -10.940835,
          57.552152,
          -102.552784,
          150.550812,
          28.369885,
          103.846656,
          19.37439,
          -7.09262,
          35.529562,
          95.955974,
          18.49041,
          84.124008,
          5.291266,
          174.885971,
          -85.207229,
          8.081666,
          8.675277,
          127.510093,
          8.468946,
          55.975413,
          69.345116,
          -80.782127,
          143.95555,
          -58.443832,
          -75.015152,
          121.774017,
          19.145136,
          -8.224454,
          51.183884,
          24.96676,
          105.318756,
          29.873888,
          -60.978893,
          -61.287228,
          -172.104629,
          45.079162,
          -14.452362,
          21.005859,
          55.491977,
          -11.779889,
          103.819836,
          19.699024,
          14.995463,
          160.156194,
          46.199616,
          22.937506,
          127.766922,
          -3.74922,
          80.771797,
          30.217636,
          -56.027783,
          18.643501,
          8.227512,
          38.996815,
          71.276093,
          34.888822,
          100.992541,
          125.727539,
          0.824782,
          -175.198242,
          -61.222503,
          9.537499,
          35.243322,
          59.556278,
          32.290275,
          31.16558,
          53.847818,
          -3.435973,
          -95.712891,
          -55.765835,
          64.585262,
          166.959158,
          -66.58973,
          108.277199,
          48.516388,
          27.849332,
          29.154857
         ],
         "marker": {
          "color": [
           38041754,
           2854191,
           43053054,
           31825295,
           97118,
           44938712,
           2957731,
           25766605,
           8877067,
           10023318,
           389482,
           1501635,
           167310838,
           287025,
           9466856,
           11484055,
           390353,
           11801151,
           727145,
           11513100,
           3301000,
           2346179,
           212559417,
           433285,
           6975761,
           20321378,
           11530580,
           25716544,
           483628,
           16486542,
           25876380,
           36991981,
           4745185,
           15946876,
           18952038,
           1397715000,
           50339443,
           850886,
           5380508,
           5047561,
           4067500,
           11333483,
           1198575,
           10669709,
           86790567,
           5818553,
           973560,
           10738958,
           17373662,
           100388073,
           6453553,
           1355986,
           6333135,
           1331824,
           112078730,
           889953,
           5520314,
           67059887,
           2172579,
           2347706,
           3720382,
           83132799,
           30792608,
           10716322,
           112003,
           16604026,
           12771246,
           1920922,
           782766,
           11263077,
           9746117,
           9769949,
           361313,
           1366417754,
           270203917,
           82913906,
           39309783,
           5007069,
           9053300,
           60297396,
           2948279,
           126226568,
           10101694,
           18513930,
           52573973,
           117606,
           4207083,
           6456900,
           7169455,
           1912789,
           6855713,
           2125268,
           4937374,
           6777452,
           2786844,
           645397,
           26969307,
           18628747,
           32447385,
           530953,
           19658031,
           502653,
           4525696,
           1265711,
           126014024,
           113815,
           2657637,
           3225167,
           622137,
           36910560,
           30366036,
           54045420,
           2494530,
           28608710,
           17332850,
           4841000,
           6545502,
           23310715,
           200963599,
           25666161,
           5347896,
           5266535,
           216565318,
           4246439,
           8776109,
           7044636,
           32510453,
           108116615,
           37970874,
           10269417,
           2832067,
           19356544,
           144373535,
           12626950,
           182790,
           100455,
           202506,
           34268528,
           16296364,
           6944975,
           97625,
           7813215,
           5703569,
           5454073,
           2087946,
           669823,
           15442905,
           58558270,
           51709098,
           47076781,
           21803000,
           42813238,
           581372,
           10285453,
           8574832,
           17070135,
           9321018,
           58005463,
           69625582,
           3500000,
           8082366,
           100209,
           1394973,
           11694719,
           83429615,
           5942089,
           44269594,
           44385155,
           9770529,
           66834405,
           328239523,
           3461734,
           33580650,
           299882,
           28515829,
           96462106,
           29161922,
           17861030,
           14645468
          ],
          "coloraxis": "coloraxis",
          "symbol": "circle"
         },
         "mode": "markers",
         "name": "",
         "showlegend": false,
         "type": "scattergeo"
        }
       ],
       "layout": {
        "coloraxis": {
         "colorbar": {
          "title": {
           "text": "Population"
          }
         },
         "colorscale": [
          [
           0,
           "#0d0887"
          ],
          [
           0.1111111111111111,
           "#46039f"
          ],
          [
           0.2222222222222222,
           "#7201a8"
          ],
          [
           0.3333333333333333,
           "#9c179e"
          ],
          [
           0.4444444444444444,
           "#bd3786"
          ],
          [
           0.5555555555555556,
           "#d8576b"
          ],
          [
           0.6666666666666666,
           "#ed7953"
          ],
          [
           0.7777777777777778,
           "#fb9f3a"
          ],
          [
           0.8888888888888888,
           "#fdca26"
          ],
          [
           1,
           "#f0f921"
          ]
         ]
        },
        "geo": {
         "center": {},
         "domain": {
          "x": [
           0,
           1
          ],
          "y": [
           0,
           1
          ]
         }
        },
        "legend": {
         "tracegroupgap": 0
        },
        "margin": {
         "t": 60
        },
        "template": {
         "data": {
          "bar": [
           {
            "error_x": {
             "color": "#2a3f5f"
            },
            "error_y": {
             "color": "#2a3f5f"
            },
            "marker": {
             "line": {
              "color": "#E5ECF6",
              "width": 0.5
             },
             "pattern": {
              "fillmode": "overlay",
              "size": 10,
              "solidity": 0.2
             }
            },
            "type": "bar"
           }
          ],
          "barpolar": [
           {
            "marker": {
             "line": {
              "color": "#E5ECF6",
              "width": 0.5
             },
             "pattern": {
              "fillmode": "overlay",
              "size": 10,
              "solidity": 0.2
             }
            },
            "type": "barpolar"
           }
          ],
          "carpet": [
           {
            "aaxis": {
             "endlinecolor": "#2a3f5f",
             "gridcolor": "white",
             "linecolor": "white",
             "minorgridcolor": "white",
             "startlinecolor": "#2a3f5f"
            },
            "baxis": {
             "endlinecolor": "#2a3f5f",
             "gridcolor": "white",
             "linecolor": "white",
             "minorgridcolor": "white",
             "startlinecolor": "#2a3f5f"
            },
            "type": "carpet"
           }
          ],
          "choropleth": [
           {
            "colorbar": {
             "outlinewidth": 0,
             "ticks": ""
            },
            "type": "choropleth"
           }
          ],
          "contour": [
           {
            "colorbar": {
             "outlinewidth": 0,
             "ticks": ""
            },
            "colorscale": [
             [
              0,
              "#0d0887"
             ],
             [
              0.1111111111111111,
              "#46039f"
             ],
             [
              0.2222222222222222,
              "#7201a8"
             ],
             [
              0.3333333333333333,
              "#9c179e"
             ],
             [
              0.4444444444444444,
              "#bd3786"
             ],
             [
              0.5555555555555556,
              "#d8576b"
             ],
             [
              0.6666666666666666,
              "#ed7953"
             ],
             [
              0.7777777777777778,
              "#fb9f3a"
             ],
             [
              0.8888888888888888,
              "#fdca26"
             ],
             [
              1,
              "#f0f921"
             ]
            ],
            "type": "contour"
           }
          ],
          "contourcarpet": [
           {
            "colorbar": {
             "outlinewidth": 0,
             "ticks": ""
            },
            "type": "contourcarpet"
           }
          ],
          "heatmap": [
           {
            "colorbar": {
             "outlinewidth": 0,
             "ticks": ""
            },
            "colorscale": [
             [
              0,
              "#0d0887"
             ],
             [
              0.1111111111111111,
              "#46039f"
             ],
             [
              0.2222222222222222,
              "#7201a8"
             ],
             [
              0.3333333333333333,
              "#9c179e"
             ],
             [
              0.4444444444444444,
              "#bd3786"
             ],
             [
              0.5555555555555556,
              "#d8576b"
             ],
             [
              0.6666666666666666,
              "#ed7953"
             ],
             [
              0.7777777777777778,
              "#fb9f3a"
             ],
             [
              0.8888888888888888,
              "#fdca26"
             ],
             [
              1,
              "#f0f921"
             ]
            ],
            "type": "heatmap"
           }
          ],
          "heatmapgl": [
           {
            "colorbar": {
             "outlinewidth": 0,
             "ticks": ""
            },
            "colorscale": [
             [
              0,
              "#0d0887"
             ],
             [
              0.1111111111111111,
              "#46039f"
             ],
             [
              0.2222222222222222,
              "#7201a8"
             ],
             [
              0.3333333333333333,
              "#9c179e"
             ],
             [
              0.4444444444444444,
              "#bd3786"
             ],
             [
              0.5555555555555556,
              "#d8576b"
             ],
             [
              0.6666666666666666,
              "#ed7953"
             ],
             [
              0.7777777777777778,
              "#fb9f3a"
             ],
             [
              0.8888888888888888,
              "#fdca26"
             ],
             [
              1,
              "#f0f921"
             ]
            ],
            "type": "heatmapgl"
           }
          ],
          "histogram": [
           {
            "marker": {
             "pattern": {
              "fillmode": "overlay",
              "size": 10,
              "solidity": 0.2
             }
            },
            "type": "histogram"
           }
          ],
          "histogram2d": [
           {
            "colorbar": {
             "outlinewidth": 0,
             "ticks": ""
            },
            "colorscale": [
             [
              0,
              "#0d0887"
             ],
             [
              0.1111111111111111,
              "#46039f"
             ],
             [
              0.2222222222222222,
              "#7201a8"
             ],
             [
              0.3333333333333333,
              "#9c179e"
             ],
             [
              0.4444444444444444,
              "#bd3786"
             ],
             [
              0.5555555555555556,
              "#d8576b"
             ],
             [
              0.6666666666666666,
              "#ed7953"
             ],
             [
              0.7777777777777778,
              "#fb9f3a"
             ],
             [
              0.8888888888888888,
              "#fdca26"
             ],
             [
              1,
              "#f0f921"
             ]
            ],
            "type": "histogram2d"
           }
          ],
          "histogram2dcontour": [
           {
            "colorbar": {
             "outlinewidth": 0,
             "ticks": ""
            },
            "colorscale": [
             [
              0,
              "#0d0887"
             ],
             [
              0.1111111111111111,
              "#46039f"
             ],
             [
              0.2222222222222222,
              "#7201a8"
             ],
             [
              0.3333333333333333,
              "#9c179e"
             ],
             [
              0.4444444444444444,
              "#bd3786"
             ],
             [
              0.5555555555555556,
              "#d8576b"
             ],
             [
              0.6666666666666666,
              "#ed7953"
             ],
             [
              0.7777777777777778,
              "#fb9f3a"
             ],
             [
              0.8888888888888888,
              "#fdca26"
             ],
             [
              1,
              "#f0f921"
             ]
            ],
            "type": "histogram2dcontour"
           }
          ],
          "mesh3d": [
           {
            "colorbar": {
             "outlinewidth": 0,
             "ticks": ""
            },
            "type": "mesh3d"
           }
          ],
          "parcoords": [
           {
            "line": {
             "colorbar": {
              "outlinewidth": 0,
              "ticks": ""
             }
            },
            "type": "parcoords"
           }
          ],
          "pie": [
           {
            "automargin": true,
            "type": "pie"
           }
          ],
          "scatter": [
           {
            "fillpattern": {
             "fillmode": "overlay",
             "size": 10,
             "solidity": 0.2
            },
            "type": "scatter"
           }
          ],
          "scatter3d": [
           {
            "line": {
             "colorbar": {
              "outlinewidth": 0,
              "ticks": ""
             }
            },
            "marker": {
             "colorbar": {
              "outlinewidth": 0,
              "ticks": ""
             }
            },
            "type": "scatter3d"
           }
          ],
          "scattercarpet": [
           {
            "marker": {
             "colorbar": {
              "outlinewidth": 0,
              "ticks": ""
             }
            },
            "type": "scattercarpet"
           }
          ],
          "scattergeo": [
           {
            "marker": {
             "colorbar": {
              "outlinewidth": 0,
              "ticks": ""
             }
            },
            "type": "scattergeo"
           }
          ],
          "scattergl": [
           {
            "marker": {
             "colorbar": {
              "outlinewidth": 0,
              "ticks": ""
             }
            },
            "type": "scattergl"
           }
          ],
          "scattermapbox": [
           {
            "marker": {
             "colorbar": {
              "outlinewidth": 0,
              "ticks": ""
             }
            },
            "type": "scattermapbox"
           }
          ],
          "scatterpolar": [
           {
            "marker": {
             "colorbar": {
              "outlinewidth": 0,
              "ticks": ""
             }
            },
            "type": "scatterpolar"
           }
          ],
          "scatterpolargl": [
           {
            "marker": {
             "colorbar": {
              "outlinewidth": 0,
              "ticks": ""
             }
            },
            "type": "scatterpolargl"
           }
          ],
          "scatterternary": [
           {
            "marker": {
             "colorbar": {
              "outlinewidth": 0,
              "ticks": ""
             }
            },
            "type": "scatterternary"
           }
          ],
          "surface": [
           {
            "colorbar": {
             "outlinewidth": 0,
             "ticks": ""
            },
            "colorscale": [
             [
              0,
              "#0d0887"
             ],
             [
              0.1111111111111111,
              "#46039f"
             ],
             [
              0.2222222222222222,
              "#7201a8"
             ],
             [
              0.3333333333333333,
              "#9c179e"
             ],
             [
              0.4444444444444444,
              "#bd3786"
             ],
             [
              0.5555555555555556,
              "#d8576b"
             ],
             [
              0.6666666666666666,
              "#ed7953"
             ],
             [
              0.7777777777777778,
              "#fb9f3a"
             ],
             [
              0.8888888888888888,
              "#fdca26"
             ],
             [
              1,
              "#f0f921"
             ]
            ],
            "type": "surface"
           }
          ],
          "table": [
           {
            "cells": {
             "fill": {
              "color": "#EBF0F8"
             },
             "line": {
              "color": "white"
             }
            },
            "header": {
             "fill": {
              "color": "#C8D4E3"
             },
             "line": {
              "color": "white"
             }
            },
            "type": "table"
           }
          ]
         },
         "layout": {
          "annotationdefaults": {
           "arrowcolor": "#2a3f5f",
           "arrowhead": 0,
           "arrowwidth": 1
          },
          "autotypenumbers": "strict",
          "coloraxis": {
           "colorbar": {
            "outlinewidth": 0,
            "ticks": ""
           }
          },
          "colorscale": {
           "diverging": [
            [
             0,
             "#8e0152"
            ],
            [
             0.1,
             "#c51b7d"
            ],
            [
             0.2,
             "#de77ae"
            ],
            [
             0.3,
             "#f1b6da"
            ],
            [
             0.4,
             "#fde0ef"
            ],
            [
             0.5,
             "#f7f7f7"
            ],
            [
             0.6,
             "#e6f5d0"
            ],
            [
             0.7,
             "#b8e186"
            ],
            [
             0.8,
             "#7fbc41"
            ],
            [
             0.9,
             "#4d9221"
            ],
            [
             1,
             "#276419"
            ]
           ],
           "sequential": [
            [
             0,
             "#0d0887"
            ],
            [
             0.1111111111111111,
             "#46039f"
            ],
            [
             0.2222222222222222,
             "#7201a8"
            ],
            [
             0.3333333333333333,
             "#9c179e"
            ],
            [
             0.4444444444444444,
             "#bd3786"
            ],
            [
             0.5555555555555556,
             "#d8576b"
            ],
            [
             0.6666666666666666,
             "#ed7953"
            ],
            [
             0.7777777777777778,
             "#fb9f3a"
            ],
            [
             0.8888888888888888,
             "#fdca26"
            ],
            [
             1,
             "#f0f921"
            ]
           ],
           "sequentialminus": [
            [
             0,
             "#0d0887"
            ],
            [
             0.1111111111111111,
             "#46039f"
            ],
            [
             0.2222222222222222,
             "#7201a8"
            ],
            [
             0.3333333333333333,
             "#9c179e"
            ],
            [
             0.4444444444444444,
             "#bd3786"
            ],
            [
             0.5555555555555556,
             "#d8576b"
            ],
            [
             0.6666666666666666,
             "#ed7953"
            ],
            [
             0.7777777777777778,
             "#fb9f3a"
            ],
            [
             0.8888888888888888,
             "#fdca26"
            ],
            [
             1,
             "#f0f921"
            ]
           ]
          },
          "colorway": [
           "#636efa",
           "#EF553B",
           "#00cc96",
           "#ab63fa",
           "#FFA15A",
           "#19d3f3",
           "#FF6692",
           "#B6E880",
           "#FF97FF",
           "#FECB52"
          ],
          "font": {
           "color": "#2a3f5f"
          },
          "geo": {
           "bgcolor": "white",
           "lakecolor": "white",
           "landcolor": "#E5ECF6",
           "showlakes": true,
           "showland": true,
           "subunitcolor": "white"
          },
          "hoverlabel": {
           "align": "left"
          },
          "hovermode": "closest",
          "mapbox": {
           "style": "light"
          },
          "paper_bgcolor": "white",
          "plot_bgcolor": "#E5ECF6",
          "polar": {
           "angularaxis": {
            "gridcolor": "white",
            "linecolor": "white",
            "ticks": ""
           },
           "bgcolor": "#E5ECF6",
           "radialaxis": {
            "gridcolor": "white",
            "linecolor": "white",
            "ticks": ""
           }
          },
          "scene": {
           "xaxis": {
            "backgroundcolor": "#E5ECF6",
            "gridcolor": "white",
            "gridwidth": 2,
            "linecolor": "white",
            "showbackground": true,
            "ticks": "",
            "zerolinecolor": "white"
           },
           "yaxis": {
            "backgroundcolor": "#E5ECF6",
            "gridcolor": "white",
            "gridwidth": 2,
            "linecolor": "white",
            "showbackground": true,
            "ticks": "",
            "zerolinecolor": "white"
           },
           "zaxis": {
            "backgroundcolor": "#E5ECF6",
            "gridcolor": "white",
            "gridwidth": 2,
            "linecolor": "white",
            "showbackground": true,
            "ticks": "",
            "zerolinecolor": "white"
           }
          },
          "shapedefaults": {
           "line": {
            "color": "#2a3f5f"
           }
          },
          "ternary": {
           "aaxis": {
            "gridcolor": "white",
            "linecolor": "white",
            "ticks": ""
           },
           "baxis": {
            "gridcolor": "white",
            "linecolor": "white",
            "ticks": ""
           },
           "bgcolor": "#E5ECF6",
           "caxis": {
            "gridcolor": "white",
            "linecolor": "white",
            "ticks": ""
           }
          },
          "title": {
           "x": 0.05
          },
          "xaxis": {
           "automargin": true,
           "gridcolor": "white",
           "linecolor": "white",
           "ticks": "",
           "title": {
            "standoff": 15
           },
           "zerolinecolor": "white",
           "zerolinewidth": 2
          },
          "yaxis": {
           "automargin": true,
           "gridcolor": "white",
           "linecolor": "white",
           "ticks": "",
           "title": {
            "standoff": 15
           },
           "zerolinecolor": "white",
           "zerolinewidth": 2
          }
         }
        }
       }
      }
     },
     "metadata": {},
     "output_type": "display_data"
    },
    {
     "data": {
      "application/vnd.plotly.v1+json": {
       "config": {
        "plotlyServerURL": "https://plot.ly"
       },
       "data": [
        {
         "coloraxis": "coloraxis",
         "geo": "geo",
         "hovertemplate": "Country=%{location}<br>Population=%{z}<extra></extra>",
         "locationmode": "country names",
         "locations": [
          "Afghanistan",
          "Albania",
          "Algeria",
          "Angola",
          "Antigua and Barbuda",
          "Argentina",
          "Armenia",
          "Australia",
          "Austria",
          "Azerbaijan",
          "The Bahamas",
          "Bahrain",
          "Bangladesh",
          "Barbados",
          "Belarus",
          "Belgium",
          "Belize",
          "Benin",
          "Bhutan",
          "Bolivia",
          "Bosnia and Herzegovina",
          "Botswana",
          "Brazil",
          "Brunei",
          "Bulgaria",
          "Burkina Faso",
          "Burundi",
          "Ivory Coast",
          "Cape Verde",
          "Cambodia",
          "Cameroon",
          "Canada",
          "Central African Republic",
          "Chad",
          "Chile",
          "China",
          "Colombia",
          "Comoros",
          "Republic of the Congo",
          "Costa Rica",
          "Croatia",
          "Cuba",
          "Cyprus",
          "Czech Republic",
          "Democratic Republic of the Congo",
          "Denmark",
          "Djibouti",
          "Dominican Republic",
          "Ecuador",
          "Egypt",
          "El Salvador",
          "Equatorial Guinea",
          "Eritrea",
          "Estonia",
          "Ethiopia",
          "Fiji",
          "Finland",
          "France",
          "Gabon",
          "The Gambia",
          "Georgia",
          "Germany",
          "Ghana",
          "Greece",
          "Grenada",
          "Guatemala",
          "Guinea",
          "Guinea-Bissau",
          "Guyana",
          "Haiti",
          "Honduras",
          "Hungary",
          "Iceland",
          "India",
          "Indonesia",
          "Iran",
          "Iraq",
          "Republic of Ireland",
          "Israel",
          "Italy",
          "Jamaica",
          "Japan",
          "Jordan",
          "Kazakhstan",
          "Kenya",
          "Kiribati",
          "Kuwait",
          "Kyrgyzstan",
          "Laos",
          "Latvia",
          "Lebanon",
          "Lesotho",
          "Liberia",
          "Libya",
          "Lithuania",
          "Luxembourg",
          "Madagascar",
          "Malawi",
          "Malaysia",
          "Maldives",
          "Mali",
          "Malta",
          "Mauritania",
          "Mauritius",
          "Mexico",
          "Federated States of Micronesia",
          "Moldova",
          "Mongolia",
          "Montenegro",
          "Morocco",
          "Mozambique",
          "Myanmar",
          "Namibia",
          "Nepal",
          "Netherlands",
          "New Zealand",
          "Nicaragua",
          "Niger",
          "Nigeria",
          "North Korea",
          "Norway",
          "Oman",
          "Pakistan",
          "Panama",
          "Papua New Guinea",
          "Paraguay",
          "Peru",
          "Philippines",
          "Poland",
          "Portugal",
          "Qatar",
          "Romania",
          "Russia",
          "Rwanda",
          "Saint Lucia",
          "Saint Vincent and the Grenadines",
          "Samoa",
          "Saudi Arabia",
          "Senegal",
          "Serbia",
          "Seychelles",
          "Sierra Leone",
          "Singapore",
          "Slovakia",
          "Slovenia",
          "Solomon Islands",
          "Somalia",
          "South Africa",
          "South Korea",
          "Spain",
          "Sri Lanka",
          "Sudan",
          "Suriname",
          "Sweden",
          "Switzerland",
          "Syria",
          "Tajikistan",
          "Tanzania",
          "Thailand",
          "East Timor",
          "Togo",
          "Tonga",
          "Trinidad and Tobago",
          "Tunisia",
          "Turkey",
          "Turkmenistan",
          "Uganda",
          "Ukraine",
          "United Arab Emirates",
          "United Kingdom",
          "United States",
          "Uruguay",
          "Uzbekistan",
          "Vanuatu",
          "Venezuela",
          "Vietnam",
          "Yemen",
          "Zambia",
          "Zimbabwe"
         ],
         "name": "",
         "type": "choropleth",
         "z": [
          38041754,
          2854191,
          43053054,
          31825295,
          97118,
          44938712,
          2957731,
          25766605,
          8877067,
          10023318,
          389482,
          1501635,
          167310838,
          287025,
          9466856,
          11484055,
          390353,
          11801151,
          727145,
          11513100,
          3301000,
          2346179,
          212559417,
          433285,
          6975761,
          20321378,
          11530580,
          25716544,
          483628,
          16486542,
          25876380,
          36991981,
          4745185,
          15946876,
          18952038,
          1397715000,
          50339443,
          850886,
          5380508,
          5047561,
          4067500,
          11333483,
          1198575,
          10669709,
          86790567,
          5818553,
          973560,
          10738958,
          17373662,
          100388073,
          6453553,
          1355986,
          6333135,
          1331824,
          112078730,
          889953,
          5520314,
          67059887,
          2172579,
          2347706,
          3720382,
          83132799,
          30792608,
          10716322,
          112003,
          16604026,
          12771246,
          1920922,
          782766,
          11263077,
          9746117,
          9769949,
          361313,
          1366417754,
          270203917,
          82913906,
          39309783,
          5007069,
          9053300,
          60297396,
          2948279,
          126226568,
          10101694,
          18513930,
          52573973,
          117606,
          4207083,
          6456900,
          7169455,
          1912789,
          6855713,
          2125268,
          4937374,
          6777452,
          2786844,
          645397,
          26969307,
          18628747,
          32447385,
          530953,
          19658031,
          502653,
          4525696,
          1265711,
          126014024,
          113815,
          2657637,
          3225167,
          622137,
          36910560,
          30366036,
          54045420,
          2494530,
          28608710,
          17332850,
          4841000,
          6545502,
          23310715,
          200963599,
          25666161,
          5347896,
          5266535,
          216565318,
          4246439,
          8776109,
          7044636,
          32510453,
          108116615,
          37970874,
          10269417,
          2832067,
          19356544,
          144373535,
          12626950,
          182790,
          100455,
          202506,
          34268528,
          16296364,
          6944975,
          97625,
          7813215,
          5703569,
          5454073,
          2087946,
          669823,
          15442905,
          58558270,
          51709098,
          47076781,
          21803000,
          42813238,
          581372,
          10285453,
          8574832,
          17070135,
          9321018,
          58005463,
          69625582,
          3500000,
          8082366,
          100209,
          1394973,
          11694719,
          83429615,
          5942089,
          44269594,
          44385155,
          9770529,
          66834405,
          328239523,
          3461734,
          33580650,
          299882,
          28515829,
          96462106,
          29161922,
          17861030,
          14645468
         ]
        }
       ],
       "layout": {
        "coloraxis": {
         "colorbar": {
          "title": {
           "text": "Population"
          }
         },
         "colorscale": [
          [
           0,
           "#0d0887"
          ],
          [
           0.1111111111111111,
           "#46039f"
          ],
          [
           0.2222222222222222,
           "#7201a8"
          ],
          [
           0.3333333333333333,
           "#9c179e"
          ],
          [
           0.4444444444444444,
           "#bd3786"
          ],
          [
           0.5555555555555556,
           "#d8576b"
          ],
          [
           0.6666666666666666,
           "#ed7953"
          ],
          [
           0.7777777777777778,
           "#fb9f3a"
          ],
          [
           0.8888888888888888,
           "#fdca26"
          ],
          [
           1,
           "#f0f921"
          ]
         ]
        },
        "geo": {
         "center": {},
         "domain": {
          "x": [
           0,
           1
          ],
          "y": [
           0,
           1
          ]
         },
         "projection": {
          "type": "natural earth"
         }
        },
        "legend": {
         "tracegroupgap": 0
        },
        "margin": {
         "t": 60
        },
        "template": {
         "data": {
          "bar": [
           {
            "error_x": {
             "color": "#2a3f5f"
            },
            "error_y": {
             "color": "#2a3f5f"
            },
            "marker": {
             "line": {
              "color": "#E5ECF6",
              "width": 0.5
             },
             "pattern": {
              "fillmode": "overlay",
              "size": 10,
              "solidity": 0.2
             }
            },
            "type": "bar"
           }
          ],
          "barpolar": [
           {
            "marker": {
             "line": {
              "color": "#E5ECF6",
              "width": 0.5
             },
             "pattern": {
              "fillmode": "overlay",
              "size": 10,
              "solidity": 0.2
             }
            },
            "type": "barpolar"
           }
          ],
          "carpet": [
           {
            "aaxis": {
             "endlinecolor": "#2a3f5f",
             "gridcolor": "white",
             "linecolor": "white",
             "minorgridcolor": "white",
             "startlinecolor": "#2a3f5f"
            },
            "baxis": {
             "endlinecolor": "#2a3f5f",
             "gridcolor": "white",
             "linecolor": "white",
             "minorgridcolor": "white",
             "startlinecolor": "#2a3f5f"
            },
            "type": "carpet"
           }
          ],
          "choropleth": [
           {
            "colorbar": {
             "outlinewidth": 0,
             "ticks": ""
            },
            "type": "choropleth"
           }
          ],
          "contour": [
           {
            "colorbar": {
             "outlinewidth": 0,
             "ticks": ""
            },
            "colorscale": [
             [
              0,
              "#0d0887"
             ],
             [
              0.1111111111111111,
              "#46039f"
             ],
             [
              0.2222222222222222,
              "#7201a8"
             ],
             [
              0.3333333333333333,
              "#9c179e"
             ],
             [
              0.4444444444444444,
              "#bd3786"
             ],
             [
              0.5555555555555556,
              "#d8576b"
             ],
             [
              0.6666666666666666,
              "#ed7953"
             ],
             [
              0.7777777777777778,
              "#fb9f3a"
             ],
             [
              0.8888888888888888,
              "#fdca26"
             ],
             [
              1,
              "#f0f921"
             ]
            ],
            "type": "contour"
           }
          ],
          "contourcarpet": [
           {
            "colorbar": {
             "outlinewidth": 0,
             "ticks": ""
            },
            "type": "contourcarpet"
           }
          ],
          "heatmap": [
           {
            "colorbar": {
             "outlinewidth": 0,
             "ticks": ""
            },
            "colorscale": [
             [
              0,
              "#0d0887"
             ],
             [
              0.1111111111111111,
              "#46039f"
             ],
             [
              0.2222222222222222,
              "#7201a8"
             ],
             [
              0.3333333333333333,
              "#9c179e"
             ],
             [
              0.4444444444444444,
              "#bd3786"
             ],
             [
              0.5555555555555556,
              "#d8576b"
             ],
             [
              0.6666666666666666,
              "#ed7953"
             ],
             [
              0.7777777777777778,
              "#fb9f3a"
             ],
             [
              0.8888888888888888,
              "#fdca26"
             ],
             [
              1,
              "#f0f921"
             ]
            ],
            "type": "heatmap"
           }
          ],
          "heatmapgl": [
           {
            "colorbar": {
             "outlinewidth": 0,
             "ticks": ""
            },
            "colorscale": [
             [
              0,
              "#0d0887"
             ],
             [
              0.1111111111111111,
              "#46039f"
             ],
             [
              0.2222222222222222,
              "#7201a8"
             ],
             [
              0.3333333333333333,
              "#9c179e"
             ],
             [
              0.4444444444444444,
              "#bd3786"
             ],
             [
              0.5555555555555556,
              "#d8576b"
             ],
             [
              0.6666666666666666,
              "#ed7953"
             ],
             [
              0.7777777777777778,
              "#fb9f3a"
             ],
             [
              0.8888888888888888,
              "#fdca26"
             ],
             [
              1,
              "#f0f921"
             ]
            ],
            "type": "heatmapgl"
           }
          ],
          "histogram": [
           {
            "marker": {
             "pattern": {
              "fillmode": "overlay",
              "size": 10,
              "solidity": 0.2
             }
            },
            "type": "histogram"
           }
          ],
          "histogram2d": [
           {
            "colorbar": {
             "outlinewidth": 0,
             "ticks": ""
            },
            "colorscale": [
             [
              0,
              "#0d0887"
             ],
             [
              0.1111111111111111,
              "#46039f"
             ],
             [
              0.2222222222222222,
              "#7201a8"
             ],
             [
              0.3333333333333333,
              "#9c179e"
             ],
             [
              0.4444444444444444,
              "#bd3786"
             ],
             [
              0.5555555555555556,
              "#d8576b"
             ],
             [
              0.6666666666666666,
              "#ed7953"
             ],
             [
              0.7777777777777778,
              "#fb9f3a"
             ],
             [
              0.8888888888888888,
              "#fdca26"
             ],
             [
              1,
              "#f0f921"
             ]
            ],
            "type": "histogram2d"
           }
          ],
          "histogram2dcontour": [
           {
            "colorbar": {
             "outlinewidth": 0,
             "ticks": ""
            },
            "colorscale": [
             [
              0,
              "#0d0887"
             ],
             [
              0.1111111111111111,
              "#46039f"
             ],
             [
              0.2222222222222222,
              "#7201a8"
             ],
             [
              0.3333333333333333,
              "#9c179e"
             ],
             [
              0.4444444444444444,
              "#bd3786"
             ],
             [
              0.5555555555555556,
              "#d8576b"
             ],
             [
              0.6666666666666666,
              "#ed7953"
             ],
             [
              0.7777777777777778,
              "#fb9f3a"
             ],
             [
              0.8888888888888888,
              "#fdca26"
             ],
             [
              1,
              "#f0f921"
             ]
            ],
            "type": "histogram2dcontour"
           }
          ],
          "mesh3d": [
           {
            "colorbar": {
             "outlinewidth": 0,
             "ticks": ""
            },
            "type": "mesh3d"
           }
          ],
          "parcoords": [
           {
            "line": {
             "colorbar": {
              "outlinewidth": 0,
              "ticks": ""
             }
            },
            "type": "parcoords"
           }
          ],
          "pie": [
           {
            "automargin": true,
            "type": "pie"
           }
          ],
          "scatter": [
           {
            "fillpattern": {
             "fillmode": "overlay",
             "size": 10,
             "solidity": 0.2
            },
            "type": "scatter"
           }
          ],
          "scatter3d": [
           {
            "line": {
             "colorbar": {
              "outlinewidth": 0,
              "ticks": ""
             }
            },
            "marker": {
             "colorbar": {
              "outlinewidth": 0,
              "ticks": ""
             }
            },
            "type": "scatter3d"
           }
          ],
          "scattercarpet": [
           {
            "marker": {
             "colorbar": {
              "outlinewidth": 0,
              "ticks": ""
             }
            },
            "type": "scattercarpet"
           }
          ],
          "scattergeo": [
           {
            "marker": {
             "colorbar": {
              "outlinewidth": 0,
              "ticks": ""
             }
            },
            "type": "scattergeo"
           }
          ],
          "scattergl": [
           {
            "marker": {
             "colorbar": {
              "outlinewidth": 0,
              "ticks": ""
             }
            },
            "type": "scattergl"
           }
          ],
          "scattermapbox": [
           {
            "marker": {
             "colorbar": {
              "outlinewidth": 0,
              "ticks": ""
             }
            },
            "type": "scattermapbox"
           }
          ],
          "scatterpolar": [
           {
            "marker": {
             "colorbar": {
              "outlinewidth": 0,
              "ticks": ""
             }
            },
            "type": "scatterpolar"
           }
          ],
          "scatterpolargl": [
           {
            "marker": {
             "colorbar": {
              "outlinewidth": 0,
              "ticks": ""
             }
            },
            "type": "scatterpolargl"
           }
          ],
          "scatterternary": [
           {
            "marker": {
             "colorbar": {
              "outlinewidth": 0,
              "ticks": ""
             }
            },
            "type": "scatterternary"
           }
          ],
          "surface": [
           {
            "colorbar": {
             "outlinewidth": 0,
             "ticks": ""
            },
            "colorscale": [
             [
              0,
              "#0d0887"
             ],
             [
              0.1111111111111111,
              "#46039f"
             ],
             [
              0.2222222222222222,
              "#7201a8"
             ],
             [
              0.3333333333333333,
              "#9c179e"
             ],
             [
              0.4444444444444444,
              "#bd3786"
             ],
             [
              0.5555555555555556,
              "#d8576b"
             ],
             [
              0.6666666666666666,
              "#ed7953"
             ],
             [
              0.7777777777777778,
              "#fb9f3a"
             ],
             [
              0.8888888888888888,
              "#fdca26"
             ],
             [
              1,
              "#f0f921"
             ]
            ],
            "type": "surface"
           }
          ],
          "table": [
           {
            "cells": {
             "fill": {
              "color": "#EBF0F8"
             },
             "line": {
              "color": "white"
             }
            },
            "header": {
             "fill": {
              "color": "#C8D4E3"
             },
             "line": {
              "color": "white"
             }
            },
            "type": "table"
           }
          ]
         },
         "layout": {
          "annotationdefaults": {
           "arrowcolor": "#2a3f5f",
           "arrowhead": 0,
           "arrowwidth": 1
          },
          "autotypenumbers": "strict",
          "coloraxis": {
           "colorbar": {
            "outlinewidth": 0,
            "ticks": ""
           }
          },
          "colorscale": {
           "diverging": [
            [
             0,
             "#8e0152"
            ],
            [
             0.1,
             "#c51b7d"
            ],
            [
             0.2,
             "#de77ae"
            ],
            [
             0.3,
             "#f1b6da"
            ],
            [
             0.4,
             "#fde0ef"
            ],
            [
             0.5,
             "#f7f7f7"
            ],
            [
             0.6,
             "#e6f5d0"
            ],
            [
             0.7,
             "#b8e186"
            ],
            [
             0.8,
             "#7fbc41"
            ],
            [
             0.9,
             "#4d9221"
            ],
            [
             1,
             "#276419"
            ]
           ],
           "sequential": [
            [
             0,
             "#0d0887"
            ],
            [
             0.1111111111111111,
             "#46039f"
            ],
            [
             0.2222222222222222,
             "#7201a8"
            ],
            [
             0.3333333333333333,
             "#9c179e"
            ],
            [
             0.4444444444444444,
             "#bd3786"
            ],
            [
             0.5555555555555556,
             "#d8576b"
            ],
            [
             0.6666666666666666,
             "#ed7953"
            ],
            [
             0.7777777777777778,
             "#fb9f3a"
            ],
            [
             0.8888888888888888,
             "#fdca26"
            ],
            [
             1,
             "#f0f921"
            ]
           ],
           "sequentialminus": [
            [
             0,
             "#0d0887"
            ],
            [
             0.1111111111111111,
             "#46039f"
            ],
            [
             0.2222222222222222,
             "#7201a8"
            ],
            [
             0.3333333333333333,
             "#9c179e"
            ],
            [
             0.4444444444444444,
             "#bd3786"
            ],
            [
             0.5555555555555556,
             "#d8576b"
            ],
            [
             0.6666666666666666,
             "#ed7953"
            ],
            [
             0.7777777777777778,
             "#fb9f3a"
            ],
            [
             0.8888888888888888,
             "#fdca26"
            ],
            [
             1,
             "#f0f921"
            ]
           ]
          },
          "colorway": [
           "#636efa",
           "#EF553B",
           "#00cc96",
           "#ab63fa",
           "#FFA15A",
           "#19d3f3",
           "#FF6692",
           "#B6E880",
           "#FF97FF",
           "#FECB52"
          ],
          "font": {
           "color": "#2a3f5f"
          },
          "geo": {
           "bgcolor": "white",
           "lakecolor": "white",
           "landcolor": "#E5ECF6",
           "showlakes": true,
           "showland": true,
           "subunitcolor": "white"
          },
          "hoverlabel": {
           "align": "left"
          },
          "hovermode": "closest",
          "mapbox": {
           "style": "light"
          },
          "paper_bgcolor": "white",
          "plot_bgcolor": "#E5ECF6",
          "polar": {
           "angularaxis": {
            "gridcolor": "white",
            "linecolor": "white",
            "ticks": ""
           },
           "bgcolor": "#E5ECF6",
           "radialaxis": {
            "gridcolor": "white",
            "linecolor": "white",
            "ticks": ""
           }
          },
          "scene": {
           "xaxis": {
            "backgroundcolor": "#E5ECF6",
            "gridcolor": "white",
            "gridwidth": 2,
            "linecolor": "white",
            "showbackground": true,
            "ticks": "",
            "zerolinecolor": "white"
           },
           "yaxis": {
            "backgroundcolor": "#E5ECF6",
            "gridcolor": "white",
            "gridwidth": 2,
            "linecolor": "white",
            "showbackground": true,
            "ticks": "",
            "zerolinecolor": "white"
           },
           "zaxis": {
            "backgroundcolor": "#E5ECF6",
            "gridcolor": "white",
            "gridwidth": 2,
            "linecolor": "white",
            "showbackground": true,
            "ticks": "",
            "zerolinecolor": "white"
           }
          },
          "shapedefaults": {
           "line": {
            "color": "#2a3f5f"
           }
          },
          "ternary": {
           "aaxis": {
            "gridcolor": "white",
            "linecolor": "white",
            "ticks": ""
           },
           "baxis": {
            "gridcolor": "white",
            "linecolor": "white",
            "ticks": ""
           },
           "bgcolor": "#E5ECF6",
           "caxis": {
            "gridcolor": "white",
            "linecolor": "white",
            "ticks": ""
           }
          },
          "title": {
           "x": 0.05
          },
          "xaxis": {
           "automargin": true,
           "gridcolor": "white",
           "linecolor": "white",
           "ticks": "",
           "title": {
            "standoff": 15
           },
           "zerolinecolor": "white",
           "zerolinewidth": 2
          },
          "yaxis": {
           "automargin": true,
           "gridcolor": "white",
           "linecolor": "white",
           "ticks": "",
           "title": {
            "standoff": 15
           },
           "zerolinecolor": "white",
           "zerolinewidth": 2
          }
         }
        }
       }
      }
     },
     "metadata": {},
     "output_type": "display_data"
    },
    {
     "data": {
      "application/vnd.plotly.v1+json": {
       "config": {
        "plotlyServerURL": "https://plot.ly"
       },
       "data": [
        {
         "coloraxis": "coloraxis",
         "geo": "geo",
         "hovertemplate": "Country=%{location}<br>Labor_pop_abs=%{z}<extra></extra>",
         "locationmode": "country names",
         "locations": [
          "Afghanistan",
          "Albania",
          "Algeria",
          "Angola",
          "Antigua and Barbuda",
          "Argentina",
          "Armenia",
          "Australia",
          "Austria",
          "Azerbaijan",
          "The Bahamas",
          "Bahrain",
          "Bangladesh",
          "Barbados",
          "Belarus",
          "Belgium",
          "Belize",
          "Benin",
          "Bhutan",
          "Bolivia",
          "Bosnia and Herzegovina",
          "Botswana",
          "Brazil",
          "Brunei",
          "Bulgaria",
          "Burkina Faso",
          "Burundi",
          "Ivory Coast",
          "Cape Verde",
          "Cambodia",
          "Cameroon",
          "Canada",
          "Central African Republic",
          "Chad",
          "Chile",
          "China",
          "Colombia",
          "Comoros",
          "Republic of the Congo",
          "Costa Rica",
          "Croatia",
          "Cuba",
          "Cyprus",
          "Czech Republic",
          "Democratic Republic of the Congo",
          "Denmark",
          "Djibouti",
          "Dominican Republic",
          "Ecuador",
          "Egypt",
          "El Salvador",
          "Equatorial Guinea",
          "Eritrea",
          "Estonia",
          "Ethiopia",
          "Fiji",
          "Finland",
          "France",
          "Gabon",
          "The Gambia",
          "Georgia",
          "Germany",
          "Ghana",
          "Greece",
          "Grenada",
          "Guatemala",
          "Guinea",
          "Guinea-Bissau",
          "Guyana",
          "Haiti",
          "Honduras",
          "Hungary",
          "Iceland",
          "India",
          "Indonesia",
          "Iran",
          "Iraq",
          "Republic of Ireland",
          "Israel",
          "Italy",
          "Jamaica",
          "Japan",
          "Jordan",
          "Kazakhstan",
          "Kenya",
          "Kiribati",
          "Kuwait",
          "Kyrgyzstan",
          "Laos",
          "Latvia",
          "Lebanon",
          "Lesotho",
          "Liberia",
          "Libya",
          "Lithuania",
          "Luxembourg",
          "Madagascar",
          "Malawi",
          "Malaysia",
          "Maldives",
          "Mali",
          "Malta",
          "Mauritania",
          "Mauritius",
          "Mexico",
          "Federated States of Micronesia",
          "Moldova",
          "Mongolia",
          "Montenegro",
          "Morocco",
          "Mozambique",
          "Myanmar",
          "Namibia",
          "Nepal",
          "Netherlands",
          "New Zealand",
          "Nicaragua",
          "Niger",
          "Nigeria",
          "North Korea",
          "Norway",
          "Oman",
          "Pakistan",
          "Panama",
          "Papua New Guinea",
          "Paraguay",
          "Peru",
          "Philippines",
          "Poland",
          "Portugal",
          "Qatar",
          "Romania",
          "Russia",
          "Rwanda",
          "Saint Lucia",
          "Saint Vincent and the Grenadines",
          "Samoa",
          "Saudi Arabia",
          "Senegal",
          "Serbia",
          "Seychelles",
          "Sierra Leone",
          "Singapore",
          "Slovakia",
          "Slovenia",
          "Solomon Islands",
          "Somalia",
          "South Africa",
          "South Korea",
          "Spain",
          "Sri Lanka",
          "Sudan",
          "Suriname",
          "Sweden",
          "Switzerland",
          "Syria",
          "Tajikistan",
          "Tanzania",
          "Thailand",
          "East Timor",
          "Togo",
          "Tonga",
          "Trinidad and Tobago",
          "Tunisia",
          "Turkey",
          "Turkmenistan",
          "Uganda",
          "Ukraine",
          "United Arab Emirates",
          "United Kingdom",
          "United States",
          "Uruguay",
          "Uzbekistan",
          "Vanuatu",
          "Venezuela",
          "Vietnam",
          "Yemen",
          "Zambia",
          "Zimbabwe"
         ],
         "name": "",
         "type": "choropleth",
         "z": [
          18602417.706,
          1589784.387,
          17737858.248,
          24664603.625,
          0,
          27547430.456,
          1644498.4360000002,
          16877126.275,
          5388379.669,
          6665506.47,
          290553.572,
          1102200.09,
          98713394.41999999,
          187140.30000000002,
          6068254.6959999995,
          6155453.48,
          254119.80299999999,
          8367016.059,
          485005.715,
          8266405.8,
          1531664,
          1661094.732,
          135825467.463,
          280335.395,
          3864571.594,
          13493394.992,
          9132219.360000001,
          14658430.08,
          292594.94,
          13568424.066000002,
          19691925.179999996,
          24081779.630999997,
          3416533.1999999997,
          11274441.332,
          11863975.788,
          950446200,
          34633536.783999994,
          368433.638,
          3734072.5520000006,
          3134535.381,
          2082560,
          6074746.888,
          756300.8250000001,
          6465843.654,
          55112010.045,
          3619139.966,
          586083.12,
          6905149.994,
          11814090.16,
          46580065.872,
          3814049.823,
          840711.3200000001,
          4965177.84,
          847040.064,
          89214669.08,
          512612.9280000001,
          3262505.574,
          36949997.737,
          1149294.291,
          1394537.364,
          2541020.906,
          50544741.791999996,
          20877388.224,
          5551054.796,
          0,
          10344308.198,
          7854316.29,
          1383063.84,
          439914.492,
          7568787.744000001,
          6705328.495999999,
          5520021.1850000005,
          270984.75,
          673643952.7219999,
          182387643.975,
          37062515.98200001,
          16903206.69,
          3109389.8490000004,
          5794112,
          29907508.415999997,
          1945864.1400000001,
          77881792.456,
          3969965.7419999996,
          12737583.839999998,
          39272757.831,
          0,
          3092206.0050000004,
          3861226.1999999997,
          5628022.175,
          1174452.446,
          3222185.1100000003,
          1443056.972,
          3767216.3619999997,
          3368393.6440000003,
          1716695.9039999999,
          382720.421,
          23220573.327,
          14288248.949000001,
          20863668.554999996,
          370605.19399999996,
          13917885.947999999,
          283998.945,
          2077294.464,
          737909.513,
          76490512.568,
          0,
          1145441.547,
          1925424.699,
          338442.528,
          16720483.679999998,
          23715874.115999997,
          33346024.139999997,
          1484245.3499999999,
          23974098.979999997,
          11023692.6,
          3383859.0000000005,
          4346213.328,
          16783714.8,
          106309743.87099999,
          20635593.444000002,
          3411957.6479999996,
          3812971.3400000003,
          113913357.268,
          2828128.374,
          4142323.448,
          5079182.556,
          25228111.528,
          64437502.54,
          21529485.558000002,
          6038417.1959999995,
          2458234.156,
          10588029.568,
          89222844.63,
          10568757.15,
          122652.09,
          66199.845,
          88495.122,
          19156107.152000003,
          7447438.348000001,
          3812791.275,
          0,
          4523851.484999999,
          4021016.145,
          3245173.435,
          1219360.464,
          561311.674,
          7319936.969999999,
          32792631.199999996,
          32576731.74,
          27069149.075,
          11751817,
          20721607.191999998,
          297081.092,
          6644402.637999999,
          5856610.256,
          7527929.535,
          3914827.5599999996,
          48376556.142000005,
          46858016.686,
          2355500,
          6271916.016,
          59924.981999999996,
          836983.7999999999,
          5391265.459000001,
          44050836.72,
          3832647.405,
          31121524.582,
          24056754.01,
          8021604.3089999985,
          41972006.34,
          203508504.26,
          2215509.76,
          21861003.15,
          209617.51800000004,
          17023949.913,
          74661670.04400001,
          11081530.36,
          13324328.379999999,
          12170383.907999998
         ]
        }
       ],
       "layout": {
        "coloraxis": {
         "colorbar": {
          "title": {
           "text": "Labor_pop_abs"
          }
         },
         "colorscale": [
          [
           0,
           "#0d0887"
          ],
          [
           0.1111111111111111,
           "#46039f"
          ],
          [
           0.2222222222222222,
           "#7201a8"
          ],
          [
           0.3333333333333333,
           "#9c179e"
          ],
          [
           0.4444444444444444,
           "#bd3786"
          ],
          [
           0.5555555555555556,
           "#d8576b"
          ],
          [
           0.6666666666666666,
           "#ed7953"
          ],
          [
           0.7777777777777778,
           "#fb9f3a"
          ],
          [
           0.8888888888888888,
           "#fdca26"
          ],
          [
           1,
           "#f0f921"
          ]
         ]
        },
        "geo": {
         "center": {},
         "domain": {
          "x": [
           0,
           1
          ],
          "y": [
           0,
           1
          ]
         },
         "projection": {
          "type": "natural earth"
         }
        },
        "legend": {
         "tracegroupgap": 0
        },
        "margin": {
         "t": 60
        },
        "template": {
         "data": {
          "bar": [
           {
            "error_x": {
             "color": "#2a3f5f"
            },
            "error_y": {
             "color": "#2a3f5f"
            },
            "marker": {
             "line": {
              "color": "#E5ECF6",
              "width": 0.5
             },
             "pattern": {
              "fillmode": "overlay",
              "size": 10,
              "solidity": 0.2
             }
            },
            "type": "bar"
           }
          ],
          "barpolar": [
           {
            "marker": {
             "line": {
              "color": "#E5ECF6",
              "width": 0.5
             },
             "pattern": {
              "fillmode": "overlay",
              "size": 10,
              "solidity": 0.2
             }
            },
            "type": "barpolar"
           }
          ],
          "carpet": [
           {
            "aaxis": {
             "endlinecolor": "#2a3f5f",
             "gridcolor": "white",
             "linecolor": "white",
             "minorgridcolor": "white",
             "startlinecolor": "#2a3f5f"
            },
            "baxis": {
             "endlinecolor": "#2a3f5f",
             "gridcolor": "white",
             "linecolor": "white",
             "minorgridcolor": "white",
             "startlinecolor": "#2a3f5f"
            },
            "type": "carpet"
           }
          ],
          "choropleth": [
           {
            "colorbar": {
             "outlinewidth": 0,
             "ticks": ""
            },
            "type": "choropleth"
           }
          ],
          "contour": [
           {
            "colorbar": {
             "outlinewidth": 0,
             "ticks": ""
            },
            "colorscale": [
             [
              0,
              "#0d0887"
             ],
             [
              0.1111111111111111,
              "#46039f"
             ],
             [
              0.2222222222222222,
              "#7201a8"
             ],
             [
              0.3333333333333333,
              "#9c179e"
             ],
             [
              0.4444444444444444,
              "#bd3786"
             ],
             [
              0.5555555555555556,
              "#d8576b"
             ],
             [
              0.6666666666666666,
              "#ed7953"
             ],
             [
              0.7777777777777778,
              "#fb9f3a"
             ],
             [
              0.8888888888888888,
              "#fdca26"
             ],
             [
              1,
              "#f0f921"
             ]
            ],
            "type": "contour"
           }
          ],
          "contourcarpet": [
           {
            "colorbar": {
             "outlinewidth": 0,
             "ticks": ""
            },
            "type": "contourcarpet"
           }
          ],
          "heatmap": [
           {
            "colorbar": {
             "outlinewidth": 0,
             "ticks": ""
            },
            "colorscale": [
             [
              0,
              "#0d0887"
             ],
             [
              0.1111111111111111,
              "#46039f"
             ],
             [
              0.2222222222222222,
              "#7201a8"
             ],
             [
              0.3333333333333333,
              "#9c179e"
             ],
             [
              0.4444444444444444,
              "#bd3786"
             ],
             [
              0.5555555555555556,
              "#d8576b"
             ],
             [
              0.6666666666666666,
              "#ed7953"
             ],
             [
              0.7777777777777778,
              "#fb9f3a"
             ],
             [
              0.8888888888888888,
              "#fdca26"
             ],
             [
              1,
              "#f0f921"
             ]
            ],
            "type": "heatmap"
           }
          ],
          "heatmapgl": [
           {
            "colorbar": {
             "outlinewidth": 0,
             "ticks": ""
            },
            "colorscale": [
             [
              0,
              "#0d0887"
             ],
             [
              0.1111111111111111,
              "#46039f"
             ],
             [
              0.2222222222222222,
              "#7201a8"
             ],
             [
              0.3333333333333333,
              "#9c179e"
             ],
             [
              0.4444444444444444,
              "#bd3786"
             ],
             [
              0.5555555555555556,
              "#d8576b"
             ],
             [
              0.6666666666666666,
              "#ed7953"
             ],
             [
              0.7777777777777778,
              "#fb9f3a"
             ],
             [
              0.8888888888888888,
              "#fdca26"
             ],
             [
              1,
              "#f0f921"
             ]
            ],
            "type": "heatmapgl"
           }
          ],
          "histogram": [
           {
            "marker": {
             "pattern": {
              "fillmode": "overlay",
              "size": 10,
              "solidity": 0.2
             }
            },
            "type": "histogram"
           }
          ],
          "histogram2d": [
           {
            "colorbar": {
             "outlinewidth": 0,
             "ticks": ""
            },
            "colorscale": [
             [
              0,
              "#0d0887"
             ],
             [
              0.1111111111111111,
              "#46039f"
             ],
             [
              0.2222222222222222,
              "#7201a8"
             ],
             [
              0.3333333333333333,
              "#9c179e"
             ],
             [
              0.4444444444444444,
              "#bd3786"
             ],
             [
              0.5555555555555556,
              "#d8576b"
             ],
             [
              0.6666666666666666,
              "#ed7953"
             ],
             [
              0.7777777777777778,
              "#fb9f3a"
             ],
             [
              0.8888888888888888,
              "#fdca26"
             ],
             [
              1,
              "#f0f921"
             ]
            ],
            "type": "histogram2d"
           }
          ],
          "histogram2dcontour": [
           {
            "colorbar": {
             "outlinewidth": 0,
             "ticks": ""
            },
            "colorscale": [
             [
              0,
              "#0d0887"
             ],
             [
              0.1111111111111111,
              "#46039f"
             ],
             [
              0.2222222222222222,
              "#7201a8"
             ],
             [
              0.3333333333333333,
              "#9c179e"
             ],
             [
              0.4444444444444444,
              "#bd3786"
             ],
             [
              0.5555555555555556,
              "#d8576b"
             ],
             [
              0.6666666666666666,
              "#ed7953"
             ],
             [
              0.7777777777777778,
              "#fb9f3a"
             ],
             [
              0.8888888888888888,
              "#fdca26"
             ],
             [
              1,
              "#f0f921"
             ]
            ],
            "type": "histogram2dcontour"
           }
          ],
          "mesh3d": [
           {
            "colorbar": {
             "outlinewidth": 0,
             "ticks": ""
            },
            "type": "mesh3d"
           }
          ],
          "parcoords": [
           {
            "line": {
             "colorbar": {
              "outlinewidth": 0,
              "ticks": ""
             }
            },
            "type": "parcoords"
           }
          ],
          "pie": [
           {
            "automargin": true,
            "type": "pie"
           }
          ],
          "scatter": [
           {
            "fillpattern": {
             "fillmode": "overlay",
             "size": 10,
             "solidity": 0.2
            },
            "type": "scatter"
           }
          ],
          "scatter3d": [
           {
            "line": {
             "colorbar": {
              "outlinewidth": 0,
              "ticks": ""
             }
            },
            "marker": {
             "colorbar": {
              "outlinewidth": 0,
              "ticks": ""
             }
            },
            "type": "scatter3d"
           }
          ],
          "scattercarpet": [
           {
            "marker": {
             "colorbar": {
              "outlinewidth": 0,
              "ticks": ""
             }
            },
            "type": "scattercarpet"
           }
          ],
          "scattergeo": [
           {
            "marker": {
             "colorbar": {
              "outlinewidth": 0,
              "ticks": ""
             }
            },
            "type": "scattergeo"
           }
          ],
          "scattergl": [
           {
            "marker": {
             "colorbar": {
              "outlinewidth": 0,
              "ticks": ""
             }
            },
            "type": "scattergl"
           }
          ],
          "scattermapbox": [
           {
            "marker": {
             "colorbar": {
              "outlinewidth": 0,
              "ticks": ""
             }
            },
            "type": "scattermapbox"
           }
          ],
          "scatterpolar": [
           {
            "marker": {
             "colorbar": {
              "outlinewidth": 0,
              "ticks": ""
             }
            },
            "type": "scatterpolar"
           }
          ],
          "scatterpolargl": [
           {
            "marker": {
             "colorbar": {
              "outlinewidth": 0,
              "ticks": ""
             }
            },
            "type": "scatterpolargl"
           }
          ],
          "scatterternary": [
           {
            "marker": {
             "colorbar": {
              "outlinewidth": 0,
              "ticks": ""
             }
            },
            "type": "scatterternary"
           }
          ],
          "surface": [
           {
            "colorbar": {
             "outlinewidth": 0,
             "ticks": ""
            },
            "colorscale": [
             [
              0,
              "#0d0887"
             ],
             [
              0.1111111111111111,
              "#46039f"
             ],
             [
              0.2222222222222222,
              "#7201a8"
             ],
             [
              0.3333333333333333,
              "#9c179e"
             ],
             [
              0.4444444444444444,
              "#bd3786"
             ],
             [
              0.5555555555555556,
              "#d8576b"
             ],
             [
              0.6666666666666666,
              "#ed7953"
             ],
             [
              0.7777777777777778,
              "#fb9f3a"
             ],
             [
              0.8888888888888888,
              "#fdca26"
             ],
             [
              1,
              "#f0f921"
             ]
            ],
            "type": "surface"
           }
          ],
          "table": [
           {
            "cells": {
             "fill": {
              "color": "#EBF0F8"
             },
             "line": {
              "color": "white"
             }
            },
            "header": {
             "fill": {
              "color": "#C8D4E3"
             },
             "line": {
              "color": "white"
             }
            },
            "type": "table"
           }
          ]
         },
         "layout": {
          "annotationdefaults": {
           "arrowcolor": "#2a3f5f",
           "arrowhead": 0,
           "arrowwidth": 1
          },
          "autotypenumbers": "strict",
          "coloraxis": {
           "colorbar": {
            "outlinewidth": 0,
            "ticks": ""
           }
          },
          "colorscale": {
           "diverging": [
            [
             0,
             "#8e0152"
            ],
            [
             0.1,
             "#c51b7d"
            ],
            [
             0.2,
             "#de77ae"
            ],
            [
             0.3,
             "#f1b6da"
            ],
            [
             0.4,
             "#fde0ef"
            ],
            [
             0.5,
             "#f7f7f7"
            ],
            [
             0.6,
             "#e6f5d0"
            ],
            [
             0.7,
             "#b8e186"
            ],
            [
             0.8,
             "#7fbc41"
            ],
            [
             0.9,
             "#4d9221"
            ],
            [
             1,
             "#276419"
            ]
           ],
           "sequential": [
            [
             0,
             "#0d0887"
            ],
            [
             0.1111111111111111,
             "#46039f"
            ],
            [
             0.2222222222222222,
             "#7201a8"
            ],
            [
             0.3333333333333333,
             "#9c179e"
            ],
            [
             0.4444444444444444,
             "#bd3786"
            ],
            [
             0.5555555555555556,
             "#d8576b"
            ],
            [
             0.6666666666666666,
             "#ed7953"
            ],
            [
             0.7777777777777778,
             "#fb9f3a"
            ],
            [
             0.8888888888888888,
             "#fdca26"
            ],
            [
             1,
             "#f0f921"
            ]
           ],
           "sequentialminus": [
            [
             0,
             "#0d0887"
            ],
            [
             0.1111111111111111,
             "#46039f"
            ],
            [
             0.2222222222222222,
             "#7201a8"
            ],
            [
             0.3333333333333333,
             "#9c179e"
            ],
            [
             0.4444444444444444,
             "#bd3786"
            ],
            [
             0.5555555555555556,
             "#d8576b"
            ],
            [
             0.6666666666666666,
             "#ed7953"
            ],
            [
             0.7777777777777778,
             "#fb9f3a"
            ],
            [
             0.8888888888888888,
             "#fdca26"
            ],
            [
             1,
             "#f0f921"
            ]
           ]
          },
          "colorway": [
           "#636efa",
           "#EF553B",
           "#00cc96",
           "#ab63fa",
           "#FFA15A",
           "#19d3f3",
           "#FF6692",
           "#B6E880",
           "#FF97FF",
           "#FECB52"
          ],
          "font": {
           "color": "#2a3f5f"
          },
          "geo": {
           "bgcolor": "white",
           "lakecolor": "white",
           "landcolor": "#E5ECF6",
           "showlakes": true,
           "showland": true,
           "subunitcolor": "white"
          },
          "hoverlabel": {
           "align": "left"
          },
          "hovermode": "closest",
          "mapbox": {
           "style": "light"
          },
          "paper_bgcolor": "white",
          "plot_bgcolor": "#E5ECF6",
          "polar": {
           "angularaxis": {
            "gridcolor": "white",
            "linecolor": "white",
            "ticks": ""
           },
           "bgcolor": "#E5ECF6",
           "radialaxis": {
            "gridcolor": "white",
            "linecolor": "white",
            "ticks": ""
           }
          },
          "scene": {
           "xaxis": {
            "backgroundcolor": "#E5ECF6",
            "gridcolor": "white",
            "gridwidth": 2,
            "linecolor": "white",
            "showbackground": true,
            "ticks": "",
            "zerolinecolor": "white"
           },
           "yaxis": {
            "backgroundcolor": "#E5ECF6",
            "gridcolor": "white",
            "gridwidth": 2,
            "linecolor": "white",
            "showbackground": true,
            "ticks": "",
            "zerolinecolor": "white"
           },
           "zaxis": {
            "backgroundcolor": "#E5ECF6",
            "gridcolor": "white",
            "gridwidth": 2,
            "linecolor": "white",
            "showbackground": true,
            "ticks": "",
            "zerolinecolor": "white"
           }
          },
          "shapedefaults": {
           "line": {
            "color": "#2a3f5f"
           }
          },
          "ternary": {
           "aaxis": {
            "gridcolor": "white",
            "linecolor": "white",
            "ticks": ""
           },
           "baxis": {
            "gridcolor": "white",
            "linecolor": "white",
            "ticks": ""
           },
           "bgcolor": "#E5ECF6",
           "caxis": {
            "gridcolor": "white",
            "linecolor": "white",
            "ticks": ""
           }
          },
          "title": {
           "x": 0.05
          },
          "xaxis": {
           "automargin": true,
           "gridcolor": "white",
           "linecolor": "white",
           "ticks": "",
           "title": {
            "standoff": 15
           },
           "zerolinecolor": "white",
           "zerolinewidth": 2
          },
          "yaxis": {
           "automargin": true,
           "gridcolor": "white",
           "linecolor": "white",
           "ticks": "",
           "title": {
            "standoff": 15
           },
           "zerolinecolor": "white",
           "zerolinewidth": 2
          }
         }
        }
       }
      }
     },
     "metadata": {},
     "output_type": "display_data"
    }
   ],
   "source": [
    "#doing geospatial visualization of factors (visualization generally)\n",
    "'''note the use of locationmode argument when using choropeth map mode in plotly'''\n",
    "'''labor force and armed forces visualization i guess?'''\n",
    "import plotly.express as px\n",
    "\n",
    "geog = global_stats.dropna(axis = 0)\n",
    "fig = px.scatter_geo(geog, lat = 'Latitude', lon = 'Longitude', hover_name = 'Country', color = 'Population')\n",
    "fig.show()\n",
    "fig2 = px.choropleth(geog, locations = 'Country', locationmode=\"country names\", color=\"Population\", projection='natural earth')\n",
    "fig2.show()\n",
    "fig3 = px.choropleth(geog, locations = 'Country', locationmode=\"country names\", color=\"Labor_pop_abs\", projection='natural earth')\n",
    "fig3.show()"
   ]
  },
  {
   "cell_type": "code",
   "execution_count": null,
   "metadata": {},
   "outputs": [
    {
     "name": "stderr",
     "output_type": "stream",
     "text": [
      "C:\\Users\\user\\AppData\\Local\\Packages\\PythonSoftwareFoundation.Python.3.12_qbz5n2kfra8p0\\LocalCache\\local-packages\\Python312\\site-packages\\sklearn\\ensemble\\_forest.py:615: UserWarning: Some inputs do not have OOB scores. This probably means too few trees were used to compute any reliable OOB estimates.\n",
      "  warn(\n",
      "C:\\Users\\user\\AppData\\Local\\Packages\\PythonSoftwareFoundation.Python.3.12_qbz5n2kfra8p0\\LocalCache\\local-packages\\Python312\\site-packages\\sklearn\\linear_model\\_coordinate_descent.py:697: ConvergenceWarning: Objective did not converge. You might want to increase the number of iterations, check the scale of the features or consider increasing regularisation. Duality gap: 1.594e+25, tolerance: 4.206e+22\n",
      "  model = cd_fast.enet_coordinate_descent(\n"
     ]
    },
    {
     "name": "stdout",
     "output_type": "stream",
     "text": [
      "[  0.15631393 -13.111366     0.15166144  -0.64776251   0.12410299]\n",
      "       Feature_Name  Error_Mean  Error_std\n",
      "2  Urban_population    0.191819   0.760254\n",
      "0    Land Area(Km2)    0.035252   0.049884\n",
      "1        Population   -0.001418   0.002836\n"
     ]
    }
   ],
   "source": [
    "#Predictive modeling - compare or predict GDP according to population related factors and education + land area?\n",
    "ridgy = linear_model.Ridge()\n",
    "linear = linear_model.LinearRegression()\n",
    "lassy = linear_model.Lasso()\n",
    "trees = tree.DecisionTreeRegressor(criterion='squared_error', max_depth=None, min_samples_split=2, min_samples_leaf=1,\n",
    "                                  random_state =1)\n",
    "rf = ensemble.RandomForestRegressor(n_estimators = 10, random_state = 20, oob_score = True)\n",
    "numerals = global_stats.drop(columns = strings)\n",
    "cols_x_y = ['Population','Land Area(Km2)']\n",
    "cols_optimized = ['Population','Land Area(Km2)','Urban_population']\n",
    "col_to_keep = ['Population: Labor force participation (%)', 'Land Area(Km2)', 'Armed Forces size', 'Population', 'Urban_population', \n",
    "                              'Minimum wage', 'Gross primary education enrollment (%)', 'Gross tertiary education enrollment (%)',\n",
    "                              'Unemployment rate']\n",
    "X_y = numerals.drop(columns = [col for col in numerals.columns if col not in cols_x_y])\n",
    "X = numerals.drop(columns = [col for col in numerals.columns if col not in cols_optimized])\n",
    "y = numerals['GDP']\n",
    "scaler = preprocessing.MinMaxScaler()\n",
    "X_scaled = scaler.fit_transform(X)\n",
    "X_train, X_test, y_train, y_test = model_selection.train_test_split(X_scaled, y, test_size = 0.2, random_state= 20)\n",
    "X_train_norm = preprocessing.normalize(X_train)\n",
    "X_test_norm = preprocessing.normalize(X_test)\n",
    "\n",
    "#model fits\n",
    "ridgyy = ridgy.fit(X_train, y_train)\n",
    "rfy = rf.fit(X_train, y_train)\n",
    "treey = trees.fit(X_train, y_train)\n",
    "lassyy = lassy.fit(X_train, y_train)\n",
    "lineary = linear.fit(X_train, y_train)\n",
    "\n",
    "y_pred = rfy.predict(X_test)\n",
    "scores = model_selection.cross_val_score(treey, X_scaled, y, cv = 5)\n",
    "mse = np.sqrt(metrics.mean_squared_error(y_test, y_pred))\n",
    "\n",
    "print(scores)\n",
    "\n",
    "result = inspection.permutation_importance(treey, X_test_norm, y_test, n_repeats = 10, random_state = 1)\n",
    "\n",
    "features = pd.DataFrame({'Feature_Name':[], 'Error_Mean':[], 'Error_std': []})\n",
    "\n",
    "for i in range(len(result.importances_mean)):\n",
    "    features.loc[len(features)] = [X.columns[i], result.importances_mean[i], result.importances_std[i]]\n",
    "\n",
    "print(features.sort_values(by = 'Error_Mean', ascending = False))\n",
    "\n",
    "#seems like gross primary education, population, land area and minimum wage affects the prediction of GDP\n"
   ]
  },
  {
   "cell_type": "code",
   "execution_count": null,
   "metadata": {},
   "outputs": [
    {
     "name": "stdout",
     "output_type": "stream",
     "text": [
      "44     2.464892e+11\n",
      "187    5.604591e+10\n",
      "97     5.207625e+10\n",
      "169    7.030824e+11\n",
      "120    1.330000e+08\n",
      "           ...     \n",
      "148    8.506550e+08\n",
      "137    2.268481e+11\n",
      "156    3.720625e+11\n",
      "15     6.308046e+10\n",
      "99     5.421932e+10\n",
      "Name: GDP, Length: 156, dtype: float64\n"
     ]
    },
    {
     "data": {
      "text/plain": [
       "<Axes: ylabel='None'>"
      ]
     },
     "execution_count": 7,
     "metadata": {},
     "output_type": "execute_result"
    },
    {
     "data": {
      "image/png": "[encoded data removed]",
      "text/plain": [
       "<Figure size 640x480 with 2 Axes>"
      ]
     },
     "metadata": {},
     "output_type": "display_data"
    }
   ],
   "source": [
    "#using clustering analysis to find out if a variable can successfully categorize your groups etc etc\n",
    "'''Doing a basic geographic clustering analysis first?'''\n",
    "all = ['Density\\n(P/Km2)', 'Country', 'Abbreviation', 'Capital/Major City', 'Currency-Code', 'Largest city', 'Official language', 'Agricultural Land( %)', 'CPI Change (%)', 'Forested Area (%)', 'Population: Labor force participation (%)', 'Tax revenue (%)',\n",
    "       'Co2-Emissions', 'CPI', 'Gasoline Price', 'GDP', 'Gross primary education enrollment (%)', 'Gross tertiary education enrollment (%)', 'Out of pocket health expenditure',\n",
    "        'Population', 'Total tax rate', 'Unemployment rate', 'Minimum wage', 'Land Area(Km2)', 'Armed Forces size', 'Population', 'Urban_population']\n",
    "clustering = global_stats.drop(columns = strings).fillna(0)\n",
    "clustering_test = clustering.loc[:, ['Longitude', 'Latitude', 'GDP']]\n",
    "X_train_clus, X_test_clus, y_train_clus, y_test_clus = model_selection.train_test_split(clustering_test.loc[:, ['Longitude', 'Latitude']], clustering_test['GDP'], test_size = 0.2, random_state= 20)\n",
    "kmeans = cluster.KMeans(n_clusters = 4, random_state = 1)\n",
    "kmeans.fit(X_train_clus)\n",
    "print(y_train_clus)\n",
    "\n",
    "plt.subplot(1,2,1)\n",
    "sns.scatterplot(data = X_train_clus, x = 'Longitude', y = 'Latitude', hue = kmeans.labels_)\n",
    "\n",
    "plt.subplot(1,2,2)\n",
    "sns.boxplot(x = kmeans.labels_, y = y_train_clus.index)"
   ]
  },
  {
   "cell_type": "code",
   "execution_count": null,
   "metadata": {},
   "outputs": [],
   "source": [
    "#continuing clustering analysis: maybe check Land Area + Labor Population with GDP?\n"
   ]
  }
 ],
 "metadata": {
  "kernelspec": {
   "display_name": "base",
   "language": "python",
   "name": "python3"
  },
  "language_info": {
   "codemirror_mode": {
    "name": "ipython",
    "version": 3
   },
   "file_extension": ".py",
   "mimetype": "text/x-python",
   "name": "python",
   "nbconvert_exporter": "python",
   "pygments_lexer": "ipython3",
   "version": "3.11.7"
  }
 },
 "nbformat": 4,
 "nbformat_minor": 2
}
